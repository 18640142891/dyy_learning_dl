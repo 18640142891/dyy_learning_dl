{
 "cells": [
  {
   "cell_type": "code",
   "execution_count": 1,
   "metadata": {
    "ExecuteTime": {
     "end_time": "2021-11-08T12:09:43.255868Z",
     "start_time": "2021-11-08T12:09:38.798278Z"
    }
   },
   "outputs": [],
   "source": [
    "import torch \n",
    "import torch.nn as nn \n",
    "from torch.autograd import Variable \n",
    "import torch.utils.data as Data \n",
    "import torchvision \n",
    "import matplotlib.pyplot as plt \n",
    "import numpy as np\n",
    "import pandas as pd\n",
    "import csv\n",
    "import codecs\n",
    "from sklearn.model_selection import cross_val_score,train_test_split"
   ]
  },
  {
   "cell_type": "code",
   "execution_count": 2,
   "metadata": {
    "ExecuteTime": {
     "end_time": "2021-11-08T12:09:43.412875Z",
     "start_time": "2021-11-08T12:09:43.255868Z"
    }
   },
   "outputs": [],
   "source": [
    "df = pd.read_csv(r\"C:\\Users\\dyy\\Desktop\\12.csv\")\n"
   ]
  },
  {
   "cell_type": "code",
   "execution_count": 3,
   "metadata": {
    "ExecuteTime": {
     "end_time": "2021-11-08T12:09:43.427878Z",
     "start_time": "2021-11-08T12:09:43.413875Z"
    }
   },
   "outputs": [],
   "source": [
    "def minmaxscaler(df):\n",
    "    min = np.amin(df)\n",
    "    max = np.amax(df)    \n",
    "    return (df - min)/(max-min)\n",
    "\n"
   ]
  },
  {
   "cell_type": "code",
   "execution_count": 4,
   "metadata": {
    "ExecuteTime": {
     "end_time": "2021-11-08T12:09:43.443887Z",
     "start_time": "2021-11-08T12:09:43.428879Z"
    }
   },
   "outputs": [],
   "source": [
    "X = df.values[:, 0:8]\n",
    "Y = df.values[:, 8:229]"
   ]
  },
  {
   "cell_type": "code",
   "execution_count": 5,
   "metadata": {
    "ExecuteTime": {
     "end_time": "2021-11-08T12:09:43.459890Z",
     "start_time": "2021-11-08T12:09:43.444886Z"
    }
   },
   "outputs": [],
   "source": [
    "X_train, X_test, Y_train, Y_test = train_test_split(minmaxscaler(X), minmaxscaler(Y), test_size=0.2, random_state=0)\n"
   ]
  },
  {
   "cell_type": "code",
   "execution_count": 6,
   "metadata": {
    "ExecuteTime": {
     "end_time": "2021-11-08T12:09:43.475893Z",
     "start_time": "2021-11-08T12:09:43.460890Z"
    }
   },
   "outputs": [],
   "source": [
    "\n",
    "x_tra = torch.from_numpy(X_train)\n",
    "x_tra = x_tra.float()\n",
    "x_tes = torch.from_numpy(X_test)\n",
    "x_tes = x_tes.float()\n",
    "y_tra = torch.from_numpy(Y_train)\n",
    "y_tra = y_tra.float()\n",
    "y_tes = torch.from_numpy(Y_test)\n",
    "y_tes = y_tes.float()"
   ]
  },
  {
   "cell_type": "code",
   "execution_count": 7,
   "metadata": {
    "ExecuteTime": {
     "end_time": "2021-11-08T12:09:43.491898Z",
     "start_time": "2021-11-08T12:09:43.476894Z"
    }
   },
   "outputs": [],
   "source": [
    "#use_gpu = torch.cuda.is_available()\n"
   ]
  },
  {
   "cell_type": "code",
   "execution_count": 8,
   "metadata": {
    "ExecuteTime": {
     "end_time": "2021-11-08T12:09:44.108550Z",
     "start_time": "2021-11-08T12:09:44.101549Z"
    }
   },
   "outputs": [],
   "source": [
    "def coeff_determination(y_true, y_pred):\n",
    "    SS_res =  K.sum(K.square( y_true-y_pred ))\n",
    "    SS_tot = K.sum(K.square( y_true - K.mean(y_true) ) )\n",
    "    return ( 1 - SS_res/(SS_tot + K.epsilon()) )\n"
   ]
  },
  {
   "cell_type": "code",
   "execution_count": 9,
   "metadata": {
    "ExecuteTime": {
     "end_time": "2021-11-08T12:09:45.869180Z",
     "start_time": "2021-11-08T12:09:45.855178Z"
    },
    "scrolled": true
   },
   "outputs": [],
   "source": [
    "class MLP(nn.Module):\n",
    "    def __init__(self):\n",
    "        super(MLP, self).__init__()\n",
    "        self.mlp = torch.nn.Sequential(\n",
    "            torch.nn.Linear(8, 1000),\n",
    "            torch.nn.Dropout(0.2),\n",
    "            torch.nn.ReLU(),\n",
    "            \n",
    "            torch.nn.Linear(1000, 800),\n",
    "            torch.nn.Dropout(0.2),\n",
    "            torch.nn.ReLU(),\n",
    "            torch.nn.Linear(800, 600),\n",
    "            torch.nn.Dropout(0.2),\n",
    "            torch.nn.ReLU(),\n",
    "            torch.nn.Linear(600, 500),\n",
    "            torch.nn.Dropout(0.2),\n",
    "            torch.nn.ReLU(),\n",
    "            torch.nn.Linear(500, 300),\n",
    "            torch.nn.Dropout(0.2),\n",
    "            torch.nn.ReLU(),\n",
    "            torch.nn.Linear(300, 250),\n",
    "            torch.nn.Dropout(0.2),\n",
    "            torch.nn.ReLU(),\n",
    "            torch.nn.Linear(250, 221)\n",
    "\n",
    "        )\n",
    "\n",
    "        # init\n",
    "\n",
    "    def forward(self, x):\n",
    "        x = self.mlp(x)\n",
    "        return x"
   ]
  },
  {
   "cell_type": "code",
   "execution_count": 10,
   "metadata": {
    "ExecuteTime": {
     "end_time": "2021-11-08T12:09:52.919286Z",
     "start_time": "2021-11-08T12:09:50.429949Z"
    }
   },
   "outputs": [],
   "source": [
    "lossData=[[]]\n",
    "model = MLP()\n",
    "loss_func = nn.MSELoss()\n",
    "optim = torch.optim.Adam(model.parameters(), 0.001)\n",
    "device = torch.device(\"cuda\" if torch.cuda.is_available() else \"cpu\")\n",
    "model = model.to(device)\n",
    "#if(use_gpu):\n",
    "#    model = model.cuda()\n",
    "#    loss_func = loss_func.cuda()\n",
    "#    x_tra,y_tra = x_tra.cuda(),y_tra.cuda()\n",
    "    #loss = loss.cpu()\n",
    "   # batch_loss = batch_loss.cpu()"
   ]
  },
  {
   "cell_type": "code",
   "execution_count": 11,
   "metadata": {
    "ExecuteTime": {
     "end_time": "2021-11-08T13:08:34.833613Z",
     "start_time": "2021-11-08T12:10:05.751623Z"
    }
   },
   "outputs": [
    {
     "name": "stderr",
     "output_type": "stream",
     "text": [
      "<ipython-input-11-7b9acc6874c6>:11: UserWarning: To copy construct from a tensor, it is recommended to use sourceTensor.clone().detach() or sourceTensor.clone().detach().requires_grad_(True), rather than torch.tensor(sourceTensor).\n",
      "  xx = torch.tensor(x_tra[start:end], dtype = torch.float, requires_grad = False).to(device)\n",
      "<ipython-input-11-7b9acc6874c6>:12: UserWarning: To copy construct from a tensor, it is recommended to use sourceTensor.clone().detach() or sourceTensor.clone().detach().requires_grad_(True), rather than torch.tensor(sourceTensor).\n",
      "  yy = torch.tensor(y_tra[start:end], dtype = torch.float, requires_grad = False).to(device)\n"
     ]
    },
    {
     "name": "stdout",
     "output_type": "stream",
     "text": [
      "epoch :1,step : 41 , loss : 0.016830626875162125\n",
      "epoch :101,step : 4141 , loss : 0.0016389713855460286\n",
      "epoch :201,step : 8241 , loss : 0.0010142147075384855\n",
      "epoch :301,step : 12341 , loss : 0.000577441998757422\n",
      "epoch :401,step : 16441 , loss : 0.0005230423994362354\n",
      "epoch :501,step : 20541 , loss : 0.0005132767255418003\n",
      "epoch :601,step : 24641 , loss : 0.0005316976457834244\n",
      "epoch :701,step : 28741 , loss : 0.0005404211697168648\n",
      "epoch :801,step : 32841 , loss : 0.0004921379731968045\n",
      "epoch :901,step : 36941 , loss : 0.0005138294072821736\n",
      "epoch :1001,step : 41041 , loss : 0.000680828932672739\n",
      "epoch :1101,step : 45141 , loss : 0.0005196492420509458\n",
      "epoch :1201,step : 49241 , loss : 0.0005135469837114215\n",
      "epoch :1301,step : 53341 , loss : 0.0005308883264660835\n",
      "epoch :1401,step : 57441 , loss : 0.0005021122051402926\n",
      "epoch :1501,step : 61541 , loss : 0.000546218769159168\n",
      "epoch :1601,step : 65641 , loss : 0.0006775285000912845\n",
      "epoch :1701,step : 69741 , loss : 0.0005820962833240628\n",
      "epoch :1801,step : 73841 , loss : 0.000560871500056237\n",
      "epoch :1901,step : 77941 , loss : 0.0005645954515784979\n",
      "epoch :2001,step : 82041 , loss : 0.0005716145969927311\n",
      "epoch :2101,step : 86141 , loss : 0.0005229724338278174\n",
      "epoch :2201,step : 90241 , loss : 0.0006051100790500641\n",
      "epoch :2301,step : 94341 , loss : 0.0005542286089621484\n",
      "epoch :2401,step : 98441 , loss : 0.0005548967747017741\n",
      "epoch :2501,step : 102541 , loss : 0.0005476261721923947\n",
      "epoch :2601,step : 106641 , loss : 0.0005732415593229234\n",
      "epoch :2701,step : 110741 , loss : 0.0005436143255792558\n",
      "epoch :2801,step : 114841 , loss : 0.0005736220045946538\n",
      "epoch :2901,step : 118941 , loss : 0.0005484739667735994\n",
      "epoch :3001,step : 123041 , loss : 0.0005644350894726813\n",
      "epoch :3101,step : 127141 , loss : 0.0005526101449504495\n",
      "epoch :3201,step : 131241 , loss : 0.0005770316929556429\n",
      "epoch :3301,step : 135341 , loss : 0.0005643813055939972\n",
      "epoch :3401,step : 139441 , loss : 0.0005767191760241985\n",
      "epoch :3501,step : 143541 , loss : 0.0005796311888843775\n",
      "epoch :3601,step : 147641 , loss : 0.0005731491837650537\n",
      "epoch :3701,step : 151741 , loss : 0.0005979416309855878\n",
      "epoch :3801,step : 155841 , loss : 0.0005856843781657517\n",
      "epoch :3901,step : 159941 , loss : 0.000612894888035953\n",
      "epoch :4001,step : 164041 , loss : 0.0006104442290961742\n",
      "epoch :4101,step : 168141 , loss : 0.0005695298314094543\n",
      "epoch :4201,step : 172241 , loss : 0.0005607843631878495\n",
      "epoch :4301,step : 176341 , loss : 0.0006368763279169798\n",
      "epoch :4401,step : 180441 , loss : 0.0006694793701171875\n",
      "epoch :4501,step : 184541 , loss : 0.0006073512486182153\n",
      "epoch :4601,step : 188641 , loss : 0.0006098367739468813\n",
      "epoch :4701,step : 192741 , loss : 0.0006409230991266668\n",
      "epoch :4801,step : 196841 , loss : 0.0006244360120035708\n",
      "epoch :4901,step : 200941 , loss : 0.0005618667346425354\n",
      "epoch :5001,step : 205041 , loss : 0.0006209941348060966\n",
      "epoch :5101,step : 209141 , loss : 0.0006127096712589264\n",
      "epoch :5201,step : 213241 , loss : 0.0006356139783747494\n",
      "epoch :5301,step : 217341 , loss : 0.0006412481889128685\n",
      "epoch :5401,step : 221441 , loss : 0.0006697275093756616\n",
      "epoch :5501,step : 225541 , loss : 0.0006319258827716112\n",
      "epoch :5601,step : 229641 , loss : 0.0006006327457726002\n",
      "epoch :5701,step : 233741 , loss : 0.0005812266026623547\n",
      "epoch :5801,step : 237841 , loss : 0.0006315194768831134\n",
      "epoch :5901,step : 241941 , loss : 0.0006757827941328287\n",
      "epoch :6001,step : 246041 , loss : 0.0006093318806961179\n",
      "epoch :6101,step : 250141 , loss : 0.0007067490369081497\n",
      "epoch :6201,step : 254241 , loss : 0.0006744748679921031\n",
      "epoch :6301,step : 258341 , loss : 0.000669941189698875\n",
      "epoch :6401,step : 262441 , loss : 0.0006367650348693132\n",
      "epoch :6501,step : 266541 , loss : 0.0006273362087085843\n",
      "epoch :6601,step : 270641 , loss : 0.0006258632056415081\n",
      "epoch :6701,step : 274741 , loss : 0.0005968727637082338\n",
      "epoch :6801,step : 278841 , loss : 0.0006363385473378003\n",
      "epoch :6901,step : 282941 , loss : 0.0006364215514622629\n",
      "epoch :7001,step : 287041 , loss : 0.0006220152135938406\n",
      "epoch :7101,step : 291141 , loss : 0.0005918470560573041\n",
      "epoch :7201,step : 295241 , loss : 0.0005577345145866275\n",
      "epoch :7301,step : 299341 , loss : 0.000619598024059087\n",
      "epoch :7401,step : 303441 , loss : 0.0006388571346178651\n",
      "epoch :7501,step : 307541 , loss : 0.0006536212167702615\n",
      "epoch :7601,step : 311641 , loss : 0.0005938894464634359\n",
      "epoch :7701,step : 315741 , loss : 0.0006501893512904644\n",
      "epoch :7801,step : 319841 , loss : 0.0006771656917408109\n",
      "epoch :7901,step : 323941 , loss : 0.0006692993920296431\n",
      "epoch :8001,step : 328041 , loss : 0.0006984851788729429\n",
      "epoch :8101,step : 332141 , loss : 0.0007136969943530858\n",
      "epoch :8201,step : 336241 , loss : 0.0006723160622641444\n",
      "epoch :8301,step : 340341 , loss : 0.0006305977585725486\n",
      "epoch :8401,step : 344441 , loss : 0.0006357086240313947\n",
      "epoch :8501,step : 348541 , loss : 0.0006251035956665874\n",
      "epoch :8601,step : 352641 , loss : 0.000623812316916883\n",
      "epoch :8701,step : 356741 , loss : 0.0006690601585432887\n",
      "epoch :8801,step : 360841 , loss : 0.0006785361911170185\n",
      "epoch :8901,step : 364941 , loss : 0.0005972838262096047\n",
      "epoch :9001,step : 369041 , loss : 0.0007490877178497612\n",
      "epoch :9101,step : 373141 , loss : 0.0007149826269596815\n",
      "epoch :9201,step : 377241 , loss : 0.000642575032543391\n",
      "epoch :9301,step : 381341 , loss : 0.0006471782689914107\n",
      "epoch :9401,step : 385441 , loss : 0.0006069953669793904\n",
      "epoch :9501,step : 389541 , loss : 0.0006459580035880208\n",
      "epoch :9601,step : 393641 , loss : 0.000635661359410733\n",
      "epoch :9701,step : 397741 , loss : 0.000653887982480228\n",
      "epoch :9801,step : 401841 , loss : 0.0006497392314486206\n",
      "epoch :9901,step : 405941 , loss : 0.0006417410331778228\n",
      "epoch :10001,step : 410041 , loss : 0.0006148621323518455\n",
      "epoch :10101,step : 414141 , loss : 0.0006981056067161262\n",
      "epoch :10201,step : 418241 , loss : 0.0006964441854506731\n",
      "epoch :10301,step : 422341 , loss : 0.0006607858813367784\n",
      "epoch :10401,step : 426441 , loss : 0.0006610751152038574\n",
      "epoch :10501,step : 430541 , loss : 0.0006570767727680504\n",
      "epoch :10601,step : 434641 , loss : 0.000699664989951998\n",
      "epoch :10701,step : 438741 , loss : 0.0005923287244513631\n",
      "epoch :10801,step : 442841 , loss : 0.000612368225120008\n",
      "epoch :10901,step : 446941 , loss : 0.0006465681362897158\n",
      "epoch :11001,step : 451041 , loss : 0.0006585650844499469\n",
      "epoch :11101,step : 455141 , loss : 0.0006209414568729699\n",
      "epoch :11201,step : 459241 , loss : 0.0006731832399964333\n",
      "epoch :11301,step : 463341 , loss : 0.0006437990814447403\n",
      "epoch :11401,step : 467441 , loss : 0.0006433073431253433\n",
      "epoch :11501,step : 471541 , loss : 0.000606116431299597\n",
      "epoch :11601,step : 475641 , loss : 0.0006265005213208497\n",
      "epoch :11701,step : 479741 , loss : 0.0006170278647914529\n",
      "epoch :11801,step : 483841 , loss : 0.0006033718236722052\n",
      "epoch :11901,step : 487941 , loss : 0.0006533411215059459\n",
      "epoch :12001,step : 492041 , loss : 0.0006466550403274596\n",
      "epoch :12101,step : 496141 , loss : 0.0006230834987945855\n",
      "epoch :12201,step : 500241 , loss : 0.0006893500103615224\n",
      "epoch :12301,step : 504341 , loss : 0.0006711506866849959\n",
      "epoch :12401,step : 508441 , loss : 0.0006329126190394163\n",
      "epoch :12501,step : 512541 , loss : 0.0006330682663246989\n",
      "epoch :12601,step : 516641 , loss : 0.0006705219275318086\n",
      "epoch :12701,step : 520741 , loss : 0.000602711399551481\n",
      "epoch :12801,step : 524841 , loss : 0.000646170403342694\n",
      "epoch :12901,step : 528941 , loss : 0.0006399936974048615\n",
      "epoch :13001,step : 533041 , loss : 0.0006205412792041898\n",
      "epoch :13101,step : 537141 , loss : 0.0006380357081070542\n",
      "epoch :13201,step : 541241 , loss : 0.00066899333614856\n",
      "epoch :13301,step : 545341 , loss : 0.0006943069165572524\n",
      "epoch :13401,step : 549441 , loss : 0.0006915155099704862\n",
      "epoch :13501,step : 553541 , loss : 0.0006605086382478476\n",
      "epoch :13601,step : 557641 , loss : 0.0006575579172931612\n",
      "epoch :13701,step : 561741 , loss : 0.0007719323039054871\n",
      "epoch :13801,step : 565841 , loss : 0.0007935453322716057\n",
      "epoch :13901,step : 569941 , loss : 0.0007769433432258666\n",
      "epoch :14001,step : 574041 , loss : 0.0007823000778444111\n",
      "epoch :14101,step : 578141 , loss : 0.0007437170133925974\n",
      "epoch :14201,step : 582241 , loss : 0.0007944670505821705\n",
      "epoch :14301,step : 586341 , loss : 0.0007758572464808822\n",
      "epoch :14401,step : 590441 , loss : 0.0007523571257479489\n"
     ]
    },
    {
     "name": "stdout",
     "output_type": "stream",
     "text": [
      "epoch :14501,step : 594541 , loss : 0.0007708327029831707\n",
      "epoch :14601,step : 598641 , loss : 0.0007015826995484531\n",
      "epoch :14701,step : 602741 , loss : 0.0007568413857370615\n",
      "epoch :14801,step : 606841 , loss : 0.0007229245384223759\n",
      "epoch :14901,step : 610941 , loss : 0.0006918380386196077\n",
      "epoch :15001,step : 615041 , loss : 0.0007885644445195794\n",
      "epoch :15101,step : 619141 , loss : 0.0006902084569446743\n",
      "epoch :15201,step : 623241 , loss : 0.0007392664556391537\n",
      "epoch :15301,step : 627341 , loss : 0.000778566172812134\n",
      "epoch :15401,step : 631441 , loss : 0.0007323838653974235\n",
      "epoch :15501,step : 635541 , loss : 0.0007401672191917896\n",
      "epoch :15601,step : 639641 , loss : 0.0007160381064750254\n",
      "epoch :15701,step : 643741 , loss : 0.0007019126205705106\n",
      "epoch :15801,step : 647841 , loss : 0.0007017900934442878\n",
      "epoch :15901,step : 651941 , loss : 0.0007136456551961601\n",
      "epoch :16001,step : 656041 , loss : 0.0006902604945935309\n",
      "epoch :16101,step : 660141 , loss : 0.0007331721717491746\n",
      "epoch :16201,step : 664241 , loss : 0.0006978008314035833\n",
      "epoch :16301,step : 668341 , loss : 0.0007054413435980678\n",
      "epoch :16401,step : 672441 , loss : 0.0006953566917218268\n",
      "epoch :16501,step : 676541 , loss : 0.0006934818811714649\n",
      "epoch :16601,step : 680641 , loss : 0.0007324345642700791\n",
      "epoch :16701,step : 684741 , loss : 0.0006897948915138841\n",
      "epoch :16801,step : 688841 , loss : 0.0007042560027912259\n",
      "epoch :16901,step : 692941 , loss : 0.0007675937958993018\n",
      "epoch :17001,step : 697041 , loss : 0.0007073690649122\n",
      "epoch :17101,step : 701141 , loss : 0.0007322895107790828\n",
      "epoch :17201,step : 705241 , loss : 0.0006972137489356101\n",
      "epoch :17301,step : 709341 , loss : 0.0007357083959504962\n",
      "epoch :17401,step : 713441 , loss : 0.0007018159958533943\n",
      "epoch :17501,step : 717541 , loss : 0.0007318925927393138\n",
      "epoch :17601,step : 721641 , loss : 0.0006992954877205193\n",
      "epoch :17701,step : 725741 , loss : 0.0007417446468025446\n",
      "epoch :17801,step : 729841 , loss : 0.0006900043808855116\n",
      "epoch :17901,step : 733941 , loss : 0.0007110584410838783\n",
      "epoch :18001,step : 738041 , loss : 0.0006838865811005235\n",
      "epoch :18101,step : 742141 , loss : 0.0007336785783991218\n",
      "epoch :18201,step : 746241 , loss : 0.0007255020900629461\n",
      "epoch :18301,step : 750341 , loss : 0.0007468127878382802\n",
      "epoch :18401,step : 754441 , loss : 0.0007431980920955539\n",
      "epoch :18501,step : 758541 , loss : 0.0006372970528900623\n",
      "epoch :18601,step : 762641 , loss : 0.0006529221427626908\n",
      "epoch :18701,step : 766741 , loss : 0.0007387952064163983\n",
      "epoch :18801,step : 770841 , loss : 0.0006836982211098075\n",
      "epoch :18901,step : 774941 , loss : 0.0007081363582983613\n",
      "epoch :19001,step : 779041 , loss : 0.0007320704171434045\n",
      "epoch :19101,step : 783141 , loss : 0.0007532804738730192\n",
      "epoch :19201,step : 787241 , loss : 0.0007029899279586971\n",
      "epoch :19301,step : 791341 , loss : 0.0006723550031892955\n",
      "epoch :19401,step : 795441 , loss : 0.0007059415220282972\n",
      "epoch :19501,step : 799541 , loss : 0.0006941386382095516\n",
      "epoch :19601,step : 803641 , loss : 0.0006941879983060062\n",
      "epoch :19701,step : 807741 , loss : 0.0007297066622413695\n",
      "epoch :19801,step : 811841 , loss : 0.0006966127548366785\n",
      "epoch :19901,step : 815941 , loss : 0.0006887432537041605\n",
      "epoch :20001,step : 820041 , loss : 0.0007337758434005082\n",
      "epoch :20101,step : 824141 , loss : 0.0007000364712439477\n",
      "epoch :20201,step : 828241 , loss : 0.0007696088869124651\n",
      "epoch :20301,step : 832341 , loss : 0.0007230824558064342\n",
      "epoch :20401,step : 836441 , loss : 0.0007644429570063949\n",
      "epoch :20501,step : 840541 , loss : 0.0006879243301227689\n",
      "epoch :20601,step : 844641 , loss : 0.0008734365692362189\n",
      "epoch :20701,step : 848741 , loss : 0.0008272665436379611\n",
      "epoch :20801,step : 852841 , loss : 0.0008019945817068219\n",
      "epoch :20901,step : 856941 , loss : 0.0008943440043367445\n",
      "epoch :21001,step : 861041 , loss : 0.0007720556459389627\n",
      "epoch :21101,step : 865141 , loss : 0.0007366779027506709\n",
      "epoch :21201,step : 869241 , loss : 0.0007892729481682181\n",
      "epoch :21301,step : 873341 , loss : 0.0007895475719124079\n",
      "epoch :21401,step : 877441 , loss : 0.000787803903222084\n",
      "epoch :21501,step : 881541 , loss : 0.0007893234142102301\n",
      "epoch :21601,step : 885641 , loss : 0.0007468216936104\n",
      "epoch :21701,step : 889741 , loss : 0.0007459472981281579\n",
      "epoch :21801,step : 893841 , loss : 0.0008659952436573803\n",
      "epoch :21901,step : 897941 , loss : 0.0007848676759749651\n",
      "epoch :22001,step : 902041 , loss : 0.0009810762712731957\n",
      "epoch :22101,step : 906141 , loss : 0.0009116110159084201\n",
      "epoch :22201,step : 910241 , loss : 0.0009290687157772481\n",
      "epoch :22301,step : 914341 , loss : 0.0008896067156456411\n",
      "epoch :22401,step : 918441 , loss : 0.0008931748452596366\n",
      "epoch :22501,step : 922541 , loss : 0.0008667443762533367\n",
      "epoch :22601,step : 926641 , loss : 0.000861025124322623\n",
      "epoch :22701,step : 930741 , loss : 0.0008656218997202814\n",
      "epoch :22801,step : 934841 , loss : 0.0009026396437548101\n",
      "epoch :22901,step : 938941 , loss : 0.0008838212233968079\n",
      "epoch :23001,step : 943041 , loss : 0.000846408715005964\n",
      "epoch :23101,step : 947141 , loss : 0.0008621188462711871\n",
      "epoch :23201,step : 951241 , loss : 0.0008708632085472345\n",
      "epoch :23301,step : 955341 , loss : 0.000824680202640593\n",
      "epoch :23401,step : 959441 , loss : 0.0008237159345299006\n",
      "epoch :23501,step : 963541 , loss : 0.0008141022408381104\n",
      "epoch :23601,step : 967641 , loss : 0.0008299335022456944\n",
      "epoch :23701,step : 971741 , loss : 0.0008156113908626139\n",
      "epoch :23801,step : 975841 , loss : 0.0007774290279485285\n",
      "epoch :23901,step : 979941 , loss : 0.0007801424362696707\n",
      "epoch :24001,step : 984041 , loss : 0.0008482073317281902\n",
      "epoch :24101,step : 988141 , loss : 0.0007805124623700976\n",
      "epoch :24201,step : 992241 , loss : 0.0007685581222176552\n",
      "epoch :24301,step : 996341 , loss : 0.000789748621173203\n",
      "epoch :24401,step : 1000441 , loss : 0.0007937992922961712\n",
      "epoch :24501,step : 1004541 , loss : 0.000818130443803966\n",
      "epoch :24601,step : 1008641 , loss : 0.0007996319327503443\n",
      "epoch :24701,step : 1012741 , loss : 0.0008242417825385928\n",
      "epoch :24801,step : 1016841 , loss : 0.000818236730992794\n",
      "epoch :24901,step : 1020941 , loss : 0.0007397783338092268\n",
      "epoch :25001,step : 1025041 , loss : 0.0007741384324617684\n",
      "epoch :25101,step : 1029141 , loss : 0.000768542115110904\n",
      "epoch :25201,step : 1033241 , loss : 0.0008959867409430444\n",
      "epoch :25301,step : 1037341 , loss : 0.0008550001657567918\n",
      "epoch :25401,step : 1041441 , loss : 0.0008070978801697493\n",
      "epoch :25501,step : 1045541 , loss : 0.0007627122686244547\n",
      "epoch :25601,step : 1049641 , loss : 0.0008189929649233818\n",
      "epoch :25701,step : 1053741 , loss : 0.00077414745464921\n",
      "epoch :25801,step : 1057841 , loss : 0.0007838874007575214\n",
      "epoch :25901,step : 1061941 , loss : 0.0008290103869512677\n",
      "epoch :26001,step : 1066041 , loss : 0.0007837613811716437\n",
      "epoch :26101,step : 1070141 , loss : 0.0008184537873603404\n",
      "epoch :26201,step : 1074241 , loss : 0.0007696826360188425\n",
      "epoch :26301,step : 1078341 , loss : 0.0007722004665993154\n",
      "epoch :26401,step : 1082441 , loss : 0.0007764959591440856\n",
      "epoch :26501,step : 1086541 , loss : 0.0007659322582185268\n",
      "epoch :26601,step : 1090641 , loss : 0.0007866705418564379\n",
      "epoch :26701,step : 1094741 , loss : 0.0008030583849176764\n",
      "epoch :26801,step : 1098841 , loss : 0.0007145240670070052\n",
      "epoch :26901,step : 1102941 , loss : 0.0007356164278462529\n",
      "epoch :27001,step : 1107041 , loss : 0.0007638787501491606\n",
      "epoch :27101,step : 1111141 , loss : 0.0007455588201992214\n",
      "epoch :27201,step : 1115241 , loss : 0.0008073903154581785\n",
      "epoch :27301,step : 1119341 , loss : 0.0007462534704245627\n",
      "epoch :27401,step : 1123441 , loss : 0.0007593868067488074\n",
      "epoch :27501,step : 1127541 , loss : 0.0007844287320040166\n",
      "epoch :27601,step : 1131641 , loss : 0.0007675642846152186\n",
      "epoch :27701,step : 1135741 , loss : 0.0008332403958775103\n",
      "epoch :27801,step : 1139841 , loss : 0.0007735994877293706\n",
      "epoch :27901,step : 1143941 , loss : 0.0007385779172182083\n",
      "epoch :28001,step : 1148041 , loss : 0.0007654493092559278\n",
      "epoch :28101,step : 1152141 , loss : 0.0007491857977584004\n",
      "epoch :28201,step : 1156241 , loss : 0.0007958366768434644\n",
      "epoch :28301,step : 1160341 , loss : 0.0007808388909325004\n",
      "epoch :28401,step : 1164441 , loss : 0.0007790235686115921\n",
      "epoch :28501,step : 1168541 , loss : 0.0007505033281631768\n"
     ]
    },
    {
     "name": "stdout",
     "output_type": "stream",
     "text": [
      "epoch :28601,step : 1172641 , loss : 0.000706494611222297\n",
      "epoch :28701,step : 1176741 , loss : 0.000733303721062839\n",
      "epoch :28801,step : 1180841 , loss : 0.000758080743253231\n",
      "epoch :28901,step : 1184941 , loss : 0.0007872807909734547\n",
      "epoch :29001,step : 1189041 , loss : 0.0007525242981500924\n",
      "epoch :29101,step : 1193141 , loss : 0.0007437963504344225\n",
      "epoch :29201,step : 1197241 , loss : 0.00075967499287799\n",
      "epoch :29301,step : 1201341 , loss : 0.00078013219172135\n",
      "epoch :29401,step : 1205441 , loss : 0.0008287490927614272\n",
      "epoch :29501,step : 1209541 , loss : 0.0007353921537287533\n",
      "epoch :29601,step : 1213641 , loss : 0.0007620264077559114\n",
      "epoch :29701,step : 1217741 , loss : 0.0008501448901370168\n",
      "epoch :29801,step : 1221841 , loss : 0.0008733764407224953\n",
      "epoch :29901,step : 1225941 , loss : 0.0008929770556278527\n"
     ]
    }
   ],
   "source": [
    "batch_size =128\n",
    "epochs = 30000\n",
    "\n",
    "step = 0\n",
    "losses = []\n",
    "for i in range(epochs):\n",
    "     batch_loss = []\n",
    "    # start和end分别是提取一个batch数据的起始和终止下标\n",
    "     for start in range(0, len(x_tra), batch_size):\n",
    "        end = start + batch_size if start + batch_size < len(x_tra) else len(x_tra)\n",
    "        xx = torch.tensor(x_tra[start:end], dtype = torch.float, requires_grad = False).to(device)\n",
    "        yy = torch.tensor(y_tra[start:end], dtype = torch.float, requires_grad = False).to(device)\n",
    "        predict = model(xx)\n",
    "        loss =loss_func(predict, yy)\n",
    "        optim.zero_grad()\n",
    "        loss.backward()\n",
    "        optim.step()\n",
    "        step += 1\n",
    "        batch_loss.append(loss.data.cpu().numpy())\n",
    "    \n",
    "    # 每隔100步输出一下损失值（loss）\n",
    "     if i % 100==0:\n",
    "        losses.append(np.mean(batch_loss))\n",
    "        print(\"epoch :{},step : {} , loss : {}\".format(i+1,step,loss))\n",
    " #   y_hat = model(x_tra)\n",
    " #   loss = loss_func(y_hat, y_tra)\n",
    "  #  optim.zero_grad()\n",
    "  #  loss.backward()\n",
    "  #  optim.step()\n",
    "  \n",
    "  #  if((i+1)%10 == 0):\n",
    "   #     print(\"{}\\t {:.5f}\".format(i+1,loss.item()))\n",
    "\n"
   ]
  },
  {
   "cell_type": "code",
   "execution_count": 12,
   "metadata": {
    "ExecuteTime": {
     "end_time": "2021-11-09T08:55:18.522965Z",
     "start_time": "2021-11-09T08:55:18.499960Z"
    }
   },
   "outputs": [],
   "source": [
    "test=pd.DataFrame(data=losses)\n",
    "test.to_csv('./loss_MLP1.csv',encoding='gbk')\n"
   ]
  },
  {
   "cell_type": "code",
   "execution_count": 13,
   "metadata": {
    "ExecuteTime": {
     "end_time": "2021-11-09T08:55:19.427698Z",
     "start_time": "2021-11-09T08:55:19.228653Z"
    }
   },
   "outputs": [
    {
     "data": {
      "text/plain": [
       "Text(0, 0.5, 'loss')"
      ]
     },
     "execution_count": 13,
     "metadata": {},
     "output_type": "execute_result"
    },
    {
     "data": {
      "image/png": "[encoded data removed]",
      "text/plain": [
       "<Figure size 720x504 with 1 Axes>"
      ]
     },
     "metadata": {
      "needs_background": "light"
     },
     "output_type": "display_data"
    }
   ],
   "source": [
    "fig = plt.figure(figsize=(10, 7))\n",
    "plt.plot(np.arange(len(losses))*1000,losses, 'o-')\n",
    "plt.xlabel('epoch')\n",
    "plt.ylabel('loss')"
   ]
  },
  {
   "cell_type": "code",
   "execution_count": 16,
   "metadata": {
    "ExecuteTime": {
     "end_time": "2021-11-01T03:06:49.443958Z",
     "start_time": "2021-11-01T03:06:49.043414Z"
    }
   },
   "outputs": [
    {
     "name": "stdout",
     "output_type": "stream",
     "text": [
      "The mean error of linear regression:\n",
      "0.0003061543887535077\n"
     ]
    }
   ],
   "source": [
    "\n",
    "predicted = model(x_tes.to(device))\n",
    "\n",
    "predicted = predicted.detach().cpu().numpy()\n",
    "\n",
    " \n",
    "# 计算误差\n",
    "result =abs(np.mean(predicted- Y_test))\n",
    "print(\"The mean error of linear regression:\")\n",
    "print(result)"
   ]
  },
  {
   "cell_type": "code",
   "execution_count": 17,
   "metadata": {
    "ExecuteTime": {
     "end_time": "2021-11-01T03:06:51.334247Z",
     "start_time": "2021-11-01T03:06:51.314319Z"
    }
   },
   "outputs": [],
   "source": [
    "torch.save(model,\"MLP.pth\")"
   ]
  },
  {
   "cell_type": "code",
   "execution_count": 11,
   "metadata": {
    "ExecuteTime": {
     "end_time": "2021-11-04T11:18:36.211414Z",
     "start_time": "2021-11-04T11:18:36.187562Z"
    }
   },
   "outputs": [],
   "source": [
    "model_dict=torch.load(\"MLP.pth\")"
   ]
  },
  {
   "cell_type": "code",
   "execution_count": 26,
   "metadata": {
    "ExecuteTime": {
     "end_time": "2021-11-04T11:43:23.269120Z",
     "start_time": "2021-11-04T11:43:23.258189Z"
    }
   },
   "outputs": [],
   "source": [
    "r = [0.9873, 0.3418, 0.4334, 0.0633, 0.0380, 0.0253, 0.0500, 0.3418]\n",
    "r=torch.Tensor(r)\n",
    "yyy= [0.9955, 0.9884, 0.9806, 0.9722, 0.9631, 0.9532, 0.9425, 0.9309, 0.9183,\n",
    "        0.9046, 0.8897, 0.8733, 0.8552, 0.8352, 0.8126, 0.7867, 0.7564, 0.7194,\n",
    "        0.6714, 0.6000, 0.4415, 0.5034, 0.5975, 0.6411, 0.6667, 0.6827, 0.6926,\n",
    "        0.6980, 0.6999, 0.6992, 0.6964, 0.6923, 0.6883, 0.6859, 0.6871, 0.6932,\n",
    "        0.7040, 0.7180, 0.7334, 0.7490, 0.7641, 0.7783, 0.7915, 0.8036, 0.8148,\n",
    "        0.8252, 0.8347, 0.8435, 0.8516, 0.8592, 0.8662, 0.8728, 0.8788, 0.8845,\n",
    "        0.8897, 0.8946, 0.8991, 0.9033, 0.9071, 0.9106, 0.9138, 0.9167, 0.9194,\n",
    "        0.9217, 0.9237, 0.9255, 0.9271, 0.9284, 0.9294, 0.9303, 0.9309, 0.9313,\n",
    "        0.9315, 0.9315, 0.9313, 0.9309, 0.9303, 0.9295, 0.9284, 0.9271, 0.9256,\n",
    "        0.9237, 0.9215, 0.9190, 0.9162, 0.9130, 0.9094, 0.9053, 0.9008, 0.8957,\n",
    "        0.8901, 0.8840, 0.8771, 0.8695, 0.8611, 0.8517, 0.8412, 0.8294, 0.8160,\n",
    "        0.8005, 0.7823, 0.7604, 0.7336, 0.6999, 0.6588, 0.6261, 0.6420, 0.6829,\n",
    "        0.7188, 0.7469, 0.7689, 0.7864, 0.8004, 0.8116, 0.8203, 0.8271, 0.8321,\n",
    "        0.8355, 0.8374, 0.8381, 0.8375, 0.8358, 0.8330, 0.8294, 0.8251, 0.8203,\n",
    "        0.8153, 0.8103, 0.8059, 0.8022, 0.7996, 0.7984, 0.7983, 0.7994, 0.8015,\n",
    "        0.8044, 0.8079, 0.8118, 0.8162, 0.8207, 0.8253, 0.8297, 0.8336, 0.8369,\n",
    "        0.8393, 0.8407, 0.8412, 0.8408, 0.8395, 0.8377, 0.8356, 0.8334, 0.8315,\n",
    "        0.8302, 0.8297, 0.8303, 0.8322, 0.8354, 0.8397, 0.8450, 0.8509, 0.8572,\n",
    "        0.8636, 0.8696, 0.8752, 0.8801, 0.8842, 0.8875, 0.8897, 0.8911, 0.8915,\n",
    "        0.8911, 0.8900, 0.8883, 0.8862, 0.8839, 0.8816, 0.8795, 0.8775, 0.8759,\n",
    "        0.8746, 0.8735, 0.8725, 0.8715, 0.8701, 0.8680, 0.8649, 0.8607, 0.8555,\n",
    "        0.8498, 0.8445, 0.8408, 0.8401, 0.8430, 0.8495, 0.8583, 0.8680, 0.8777,\n",
    "        0.8866, 0.8944, 0.9011, 0.9069, 0.9119, 0.9163, 0.9204, 0.9244, 0.9283,\n",
    "        0.9321, 0.9359, 0.9395, 0.9429, 0.9461, 0.9492, 0.9521, 0.9546, 0.9569,\n",
    "        0.9589, 0.9609, 0.9629, 0.9650, 0.9669]\n",
    "yyy=torch.Tensor(yyy)"
   ]
  },
  {
   "cell_type": "code",
   "execution_count": 27,
   "metadata": {
    "ExecuteTime": {
     "end_time": "2021-11-04T11:43:27.610271Z",
     "start_time": "2021-11-04T11:43:27.393619Z"
    },
    "scrolled": false
   },
   "outputs": [
    {
     "data": {
      "text/plain": [
       "Text(0, 0.5, 's11')"
      ]
     },
     "execution_count": 27,
     "metadata": {},
     "output_type": "execute_result"
    },
    {
     "data": {
      "image/png": "[encoded data removed]",
      "text/plain": [
       "<Figure size 720x504 with 1 Axes>"
      ]
     },
     "metadata": {
      "needs_background": "light"
     },
     "output_type": "display_data"
    }
   ],
   "source": [
    "i = 1000\n",
    "\n",
    "X_ver = minmaxscaler(X_test)[i,]\n",
    "Y_ver = minmaxscaler(Y_test)[i,]\n",
    "x_ver = torch.from_numpy(X_ver)\n",
    "x_ver = x_ver.float()\n",
    "y_ver = torch.from_numpy(Y_ver)\n",
    "y_ver = y_ver.float()\n",
    "\n",
    "\n",
    "# 用神经网络进行预测\n",
    "predicted1 = model_dict(r.to(device))\n",
    "predicted1 = predicted1.detach().cpu().numpy()\n",
    "fig, ax = plt.subplots(figsize = (10, 7))\n",
    "#plt.scatter(x_ver[: ,2],predicted1)\n",
    "#plt.scatter(x_ver[: ,2],y_ver)\n",
    "ax.plot(predicted1, label='Prediction', linestyle = '--')\n",
    "ax.plot(yyy, label='real', linestyle = '-')\n",
    "ax.legend()\n",
    "ax.set_xlabel('f')\n",
    "ax.set_ylabel('s11')\n",
    "#print(predicted1)"
   ]
  },
  {
   "cell_type": "code",
   "execution_count": 18,
   "metadata": {
    "ExecuteTime": {
     "end_time": "2021-11-04T11:33:19.409769Z",
     "start_time": "2021-11-04T11:33:19.394863Z"
    }
   },
   "outputs": [
    {
     "data": {
      "text/plain": [
       "tensor([1.0000, 0.3671, 0.4334, 0.0886, 0.0443, 0.0000, 0.0532, 0.3418])"
      ]
     },
     "execution_count": 18,
     "metadata": {},
     "output_type": "execute_result"
    }
   ],
   "source": [
    "x_ver"
   ]
  },
  {
   "cell_type": "code",
   "execution_count": 28,
   "metadata": {
    "ExecuteTime": {
     "end_time": "2021-11-04T11:45:57.533242Z",
     "start_time": "2021-11-04T11:45:57.521317Z"
    }
   },
   "outputs": [],
   "source": [
    "def fan_minmaxscaler(x,df):\n",
    "    min = np.amin(df)\n",
    "    max = np.amax(df)    \n",
    "    return x*(max-min)+ min"
   ]
  },
  {
   "cell_type": "code",
   "execution_count": 31,
   "metadata": {
    "ExecuteTime": {
     "end_time": "2021-11-04T11:46:12.182328Z",
     "start_time": "2021-11-04T11:46:12.169408Z"
    }
   },
   "outputs": [],
   "source": [
    "e = fan_minmaxscaler(yyy,Y)\n",
    "a = fan_minmaxscaler(predicted1,Y)"
   ]
  },
  {
   "cell_type": "code",
   "execution_count": 32,
   "metadata": {
    "ExecuteTime": {
     "end_time": "2021-11-04T11:46:12.843855Z",
     "start_time": "2021-11-04T11:46:12.665960Z"
    }
   },
   "outputs": [
    {
     "data": {
      "text/plain": [
       "Text(0, 0.5, 's11')"
      ]
     },
     "execution_count": 32,
     "metadata": {},
     "output_type": "execute_result"
    },
    {
     "data": {
      "image/png": "[encoded data removed]",
      "text/plain": [
       "<Figure size 720x504 with 1 Axes>"
      ]
     },
     "metadata": {
      "needs_background": "light"
     },
     "output_type": "display_data"
    }
   ],
   "source": [
    "fig, ax = plt.subplots(figsize = (10, 7))\n",
    "ax.plot(e, label='real', linestyle = '-')\n",
    "ax.plot(a, label='a', linestyle = '-')\n",
    "ax.legend()\n",
    "ax.set_xlabel('f')\n",
    "ax.set_ylabel('s11')"
   ]
  },
  {
   "cell_type": "code",
   "execution_count": 33,
   "metadata": {
    "ExecuteTime": {
     "end_time": "2021-11-04T11:46:25.744466Z",
     "start_time": "2021-11-04T11:46:25.720614Z"
    }
   },
   "outputs": [],
   "source": [
    "#test=pd.DataFrame(data=e)\n",
    "#test.to_csv('./real.csv',encoding='gbk')\n",
    "test=pd.DataFrame(data=a)\n",
    "test.to_csv('./mlp_predicted1.csv',encoding='gbk')"
   ]
  },
  {
   "cell_type": "code",
   "execution_count": null,
   "metadata": {},
   "outputs": [],
   "source": []
  }
 ],
 "metadata": {
  "kernelspec": {
   "display_name": "Python 3",
   "language": "python",
   "name": "python3"
  },
  "language_info": {
   "codemirror_mode": {
    "name": "ipython",
    "version": 3
   },
   "file_extension": ".py",
   "mimetype": "text/x-python",
   "name": "python",
   "nbconvert_exporter": "python",
   "pygments_lexer": "ipython3",
   "version": "3.8.5"
  }
 },
 "nbformat": 4,
 "nbformat_minor": 4
}
