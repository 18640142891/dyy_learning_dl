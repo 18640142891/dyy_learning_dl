{
 "cells": [
  {
   "cell_type": "code",
   "execution_count": 170,
   "metadata": {
    "ExecuteTime": {
     "end_time": "2021-11-08T04:12:52.563121Z",
     "start_time": "2021-11-08T04:12:52.560120Z"
    }
   },
   "outputs": [],
   "source": [
    "import torch \n",
    "import torch.nn as nn \n",
    "from torch.autograd import Variable \n",
    "import torch.utils.data as Data \n",
    "import torchvision \n",
    "import matplotlib.pyplot as plt \n",
    "import numpy as np\n",
    "import pandas as pd\n",
    "from torch.nn import functional as F\n",
    "\n",
    "import math\n",
    "from sklearn.model_selection import cross_val_score,train_test_split"
   ]
  },
  {
   "cell_type": "code",
   "execution_count": 171,
   "metadata": {
    "ExecuteTime": {
     "end_time": "2021-11-08T04:12:53.265582Z",
     "start_time": "2021-11-08T04:12:53.112548Z"
    }
   },
   "outputs": [],
   "source": [
    "df = pd.read_csv(r\"C:\\Users\\dyy\\Desktop\\12.csv\")\n",
    "X = np.expand_dims(df.values[:, 0:8].astype(float), axis=2)#增加一维轴\n",
    "X1 = df.values[:, 0:8]\n",
    "Y = df.values[:, 8:229]"
   ]
  },
  {
   "cell_type": "code",
   "execution_count": 320,
   "metadata": {
    "ExecuteTime": {
     "end_time": "2021-11-08T05:00:45.306645Z",
     "start_time": "2021-11-08T05:00:45.294643Z"
    }
   },
   "outputs": [],
   "source": [
    "def minmaxscaler(df):\n",
    "    min = np.amin(df)\n",
    "    max = np.amax(df)    \n",
    "    return (df - min)/(max-min)\n",
    "\n",
    "def fan_minmaxscaler(x,df):\n",
    "    min = np.amin(df)\n",
    "    max = np.amax(df)    \n",
    "    return x*(max-min)+ min"
   ]
  },
  {
   "cell_type": "code",
   "execution_count": 305,
   "metadata": {
    "ExecuteTime": {
     "end_time": "2021-11-08T04:59:44.780849Z",
     "start_time": "2021-11-08T04:59:44.766846Z"
    }
   },
   "outputs": [],
   "source": [
    "\n",
    "def calc_corr(a, b):\n",
    "    a_avg = sum(a)/len(a)\n",
    "    b_avg = sum(b)/len(b)\n",
    " \n",
    "    # 计算分子，协方差————按照协方差公式，本来要除以n的，由于在相关系数中上下同时约去了n，于是可以不除以n\n",
    "    cov_ab = sum([(x - a_avg)*(y - b_avg) for x,y in zip(a, b)])\n",
    " \n",
    "    # 计算分母，方差乘积————方差本来也要除以n，在相关系数中上下同时约去了n，于是可以不除以n\n",
    "    sq = math.sqrt(sum([(x - a_avg)**2 for x in a])*sum([(x - b_avg)**2 for x in b]))\n",
    " \n",
    "    corr_factor = cov_ab/sq\n",
    " \n",
    "    return corr_factor\n"
   ]
  },
  {
   "cell_type": "code",
   "execution_count": 173,
   "metadata": {
    "ExecuteTime": {
     "end_time": "2021-11-08T04:12:54.185669Z",
     "start_time": "2021-11-08T04:12:54.168665Z"
    }
   },
   "outputs": [],
   "source": [
    "X_train, X_test, Y_train, Y_test = train_test_split( minmaxscaler(X),  minmaxscaler(Y), test_size=0.2, random_state=5)"
   ]
  },
  {
   "cell_type": "code",
   "execution_count": 174,
   "metadata": {
    "ExecuteTime": {
     "end_time": "2021-11-08T04:12:54.800920Z",
     "start_time": "2021-11-08T04:12:54.784917Z"
    }
   },
   "outputs": [],
   "source": [
    "x_tra = Variable(torch.from_numpy(X_train))\n",
    "x_tra = x_tra.float()\n",
    "x_tes = Variable(torch.from_numpy(X_test))\n",
    "x_tes = x_tes.float()\n",
    "y_tra = Variable(torch.from_numpy(Y_train))\n",
    "y_tra = y_tra.float()\n",
    "y_tes = Variable(torch.from_numpy(Y_test))\n",
    "y_tes = y_tes.float()\n",
    "x_tra = x_tra.permute(0,2,1)\n",
    "x_tes = x_tes.permute(0,2,1)\n"
   ]
  },
  {
   "cell_type": "code",
   "execution_count": 175,
   "metadata": {
    "ExecuteTime": {
     "end_time": "2021-11-08T04:12:56.270859Z",
     "start_time": "2021-11-08T04:12:56.256856Z"
    }
   },
   "outputs": [
    {
     "data": {
      "text/plain": [
       "torch.Size([5248, 1, 8])"
      ]
     },
     "execution_count": 175,
     "metadata": {},
     "output_type": "execute_result"
    }
   ],
   "source": [
    "x_tra.shape"
   ]
  },
  {
   "cell_type": "code",
   "execution_count": 176,
   "metadata": {
    "ExecuteTime": {
     "end_time": "2021-11-08T04:12:57.112374Z",
     "start_time": "2021-11-08T04:12:57.104381Z"
    }
   },
   "outputs": [],
   "source": [
    "class ResBlk(nn.Module):\n",
    "    def __init__(self,ch_in,ch_out,stride=1):\n",
    "        super(ResBlk, self).__init__()\n",
    " \n",
    "        # 两个卷积层\n",
    "        self.conv1=torch.nn.Conv1d(ch_in,ch_out,kernel_size=3,stride=stride,padding=1)\n",
    "        self.bn1=nn.BatchNorm1d(ch_out)\n",
    "        self.conv2=torch.nn.Conv1d(ch_out,ch_out,kernel_size=3,stride=1,padding=1)\n",
    "        self.bn2=nn.BatchNorm1d(ch_out)\n",
    " \n",
    "        # 短接层\n",
    "        self.extra=nn.Sequential()\n",
    "        if ch_out != ch_in:\n",
    "            self.extra=nn.Sequential(\n",
    "                nn.Conv1d(ch_in,ch_out,kernel_size=1,stride=stride),\n",
    "                nn.BatchNorm1d(ch_out)\n",
    "            )\n",
    "    def forward(self,x):\n",
    "        \"\"\"\n",
    "        :param x: [b,ch,h,w]\n",
    "        :return:\n",
    "        \"\"\"\n",
    "        out=F.relu(self.bn1(self.conv1(x)))\n",
    "        out=self.bn2(self.conv2(out))\n",
    " \n",
    "        # 短接层\n",
    "        # element-wise add: [b,ch_in,h,w]=>[b,ch_out,h,w]\n",
    "        out=self.extra(x)+out\n",
    "        return out\n",
    " \n",
    "\n",
    "class ResNet18(nn.Module):\n",
    "    def __init__(self):\n",
    "        super(ResNet18, self).__init__()\n",
    "         \n",
    "        # 定义预处理层\n",
    "        self.mlp1  =torch.nn.Sequential(\n",
    "            torch.nn.Linear(8,100),\n",
    "            torch.nn.ReLU(),\n",
    "        )\n",
    "        self.conv1=nn.Sequential(\n",
    "            torch.nn.Conv1d(1,8,kernel_size=2,stride=1,padding=0),\n",
    "            nn.BatchNorm1d(8)\n",
    "        )\n",
    " \n",
    "        # 定义堆叠ResBlock层\n",
    "        # followed 4 blocks\n",
    "        \n",
    "        self.blk1=ResBlk(8,16,stride=1)\n",
    "     \n",
    "        self.blk2=ResBlk(16,32,stride=1)\n",
    "     \n",
    "        self.blk3=ResBlk(32,64,stride=1)\n",
    "        \n",
    "        self.blk4=ResBlk(64,32,stride=1)\n",
    " \n",
    "        self.e0 = nn.Flatten()\n",
    "        # 定义全连接层\n",
    "        self.mlp2  =torch.nn.Sequential(\n",
    "            torch.nn.Linear(3168,1000),\n",
    "            torch.nn.ReLU(),\n",
    "            torch.nn.Linear(1000,500),\n",
    "            torch.nn.ReLU(),\n",
    "            torch.nn.Linear(500,221),\n",
    "        )\n",
    "            \n",
    "    def forward(self,x):\n",
    "        \"\"\"\n",
    "        :param x:\n",
    "        :return:\n",
    "        \"\"\"\n",
    "        # 1.预处理层\n",
    "    \n",
    "        x = self.mlp1(x)\n",
    "        x=F.relu(self.conv1(x))\n",
    "        # 2. 堆叠ResBlock层：channel会慢慢的增加，  长和宽会慢慢的减少\n",
    "        # [b,64,h,w]-->[b,512,h,w]\n",
    "\n",
    "        x=self.blk1(x)\n",
    "        x=self.blk2(x)\n",
    "        x=self.blk3(x)\n",
    "        x=self.blk4(x)\n",
    "        x = self.e0(x)\n",
    "        # print(\"after conv:\",x.shape) # [b,512,2,2]\n",
    "        # 不管原先什么后面两个维度是多少，都化成[1,1]，\n",
    "        # [b,512,1,1]\n",
    "       # x=F.adaptive_avg_pool2d(x,[1,1])\n",
    "        # print(\"after pool2d:\",x.shape) # [b,512,1,1]\n",
    " \n",
    "        # 将[b,512,1,1]打平成[b,512*1*1]\n",
    "        x=x.view(x.size(0),-1)\n",
    " \n",
    "        # 3.放到全连接层，进行打平\n",
    "        # [b,512]-->[b,10]\n",
    "        #print(x.size())\n",
    "        x=self.mlp2(x)\n",
    " \n",
    "        return x\n"
   ]
  },
  {
   "cell_type": "code",
   "execution_count": 409,
   "metadata": {
    "ExecuteTime": {
     "end_time": "2021-11-08T05:10:23.435135Z",
     "start_time": "2021-11-08T05:10:23.414130Z"
    }
   },
   "outputs": [],
   "source": [
    "model = ResNet18()\n",
    "loss_func = torch.nn.MSELoss()\n",
    "optim = torch.optim.Adam(model.parameters(),lr=0.001)\n",
    "#optim = torch.optim.Pso(model.parameters(),lr=0.001)\n",
    "batch_size = 32\n",
    "epochs = 20000"
   ]
  },
  {
   "cell_type": "code",
   "execution_count": 410,
   "metadata": {
    "ExecuteTime": {
     "end_time": "2021-11-08T05:10:24.004609Z",
     "start_time": "2021-11-08T05:10:23.981604Z"
    }
   },
   "outputs": [],
   "source": [
    "device = torch.device(\"cuda\" if torch.cuda.is_available() else \"cpu\")\n",
    "model = model.to(device)"
   ]
  },
  {
   "cell_type": "code",
   "execution_count": 411,
   "metadata": {
    "ExecuteTime": {
     "end_time": "2021-11-08T05:10:24.308682Z",
     "start_time": "2021-11-08T05:10:24.293678Z"
    }
   },
   "outputs": [],
   "source": [
    "losses = []\n",
    "step = 0"
   ]
  },
  {
   "cell_type": "code",
   "execution_count": 489,
   "metadata": {
    "ExecuteTime": {
     "end_time": "2021-11-08T06:09:01.819841Z",
     "start_time": "2021-11-08T06:08:59.636352Z"
    },
    "scrolled": true
   },
   "outputs": [
    {
     "name": "stdout",
     "output_type": "stream",
     "text": [
      "epoch\t loss\t\n"
     ]
    },
    {
     "name": "stderr",
     "output_type": "stream",
     "text": [
      "<ipython-input-489-cda00c6881b7>:7: UserWarning: To copy construct from a tensor, it is recommended to use sourceTensor.clone().detach() or sourceTensor.clone().detach().requires_grad_(True), rather than torch.tensor(sourceTensor).\n",
      "  xx = torch.tensor(x_tra[start:end], dtype = torch.float, requires_grad = False).to(device)\n",
      "<ipython-input-489-cda00c6881b7>:8: UserWarning: To copy construct from a tensor, it is recommended to use sourceTensor.clone().detach() or sourceTensor.clone().detach().requires_grad_(True), rather than torch.tensor(sourceTensor).\n",
      "  yy = torch.tensor(y_tra[start:end], dtype = torch.float, requires_grad = False).to(device)\n"
     ]
    },
    {
     "name": "stdout",
     "output_type": "stream",
     "text": [
      "epoch :1,step : 309749 , loss : 0.0003239102370571345\n"
     ]
    },
    {
     "ename": "KeyboardInterrupt",
     "evalue": "",
     "output_type": "error",
     "traceback": [
      "\u001b[1;31m---------------------------------------------------------------------------\u001b[0m",
      "\u001b[1;31mKeyboardInterrupt\u001b[0m                         Traceback (most recent call last)",
      "\u001b[1;32m<ipython-input-489-cda00c6881b7>\u001b[0m in \u001b[0;36m<module>\u001b[1;34m\u001b[0m\n\u001b[0;32m     11\u001b[0m         \u001b[0moptim\u001b[0m\u001b[1;33m.\u001b[0m\u001b[0mzero_grad\u001b[0m\u001b[1;33m(\u001b[0m\u001b[1;33m)\u001b[0m\u001b[1;33m\u001b[0m\u001b[1;33m\u001b[0m\u001b[0m\n\u001b[0;32m     12\u001b[0m         \u001b[0mloss\u001b[0m\u001b[1;33m.\u001b[0m\u001b[0mbackward\u001b[0m\u001b[1;33m(\u001b[0m\u001b[1;33m)\u001b[0m\u001b[1;33m\u001b[0m\u001b[1;33m\u001b[0m\u001b[0m\n\u001b[1;32m---> 13\u001b[1;33m         \u001b[0moptim\u001b[0m\u001b[1;33m.\u001b[0m\u001b[0mstep\u001b[0m\u001b[1;33m(\u001b[0m\u001b[1;33m)\u001b[0m\u001b[1;33m\u001b[0m\u001b[1;33m\u001b[0m\u001b[0m\n\u001b[0m\u001b[0;32m     14\u001b[0m         \u001b[0mstep\u001b[0m \u001b[1;33m+=\u001b[0m \u001b[1;36m1\u001b[0m\u001b[1;33m\u001b[0m\u001b[1;33m\u001b[0m\u001b[0m\n\u001b[0;32m     15\u001b[0m         \u001b[0mbatch_loss\u001b[0m\u001b[1;33m.\u001b[0m\u001b[0mappend\u001b[0m\u001b[1;33m(\u001b[0m\u001b[0mloss\u001b[0m\u001b[1;33m.\u001b[0m\u001b[0mdata\u001b[0m\u001b[1;33m.\u001b[0m\u001b[0mcpu\u001b[0m\u001b[1;33m(\u001b[0m\u001b[1;33m)\u001b[0m\u001b[1;33m.\u001b[0m\u001b[0mnumpy\u001b[0m\u001b[1;33m(\u001b[0m\u001b[1;33m)\u001b[0m\u001b[1;33m)\u001b[0m\u001b[1;33m\u001b[0m\u001b[1;33m\u001b[0m\u001b[0m\n",
      "\u001b[1;32mC:\\ProgramData\\Anaconda3\\lib\\site-packages\\torch\\optim\\optimizer.py\u001b[0m in \u001b[0;36mwrapper\u001b[1;34m(*args, **kwargs)\u001b[0m\n\u001b[0;32m     87\u001b[0m                 \u001b[0mprofile_name\u001b[0m \u001b[1;33m=\u001b[0m \u001b[1;34m\"Optimizer.step#{}.step\"\u001b[0m\u001b[1;33m.\u001b[0m\u001b[0mformat\u001b[0m\u001b[1;33m(\u001b[0m\u001b[0mobj\u001b[0m\u001b[1;33m.\u001b[0m\u001b[0m__class__\u001b[0m\u001b[1;33m.\u001b[0m\u001b[0m__name__\u001b[0m\u001b[1;33m)\u001b[0m\u001b[1;33m\u001b[0m\u001b[1;33m\u001b[0m\u001b[0m\n\u001b[0;32m     88\u001b[0m                 \u001b[1;32mwith\u001b[0m \u001b[0mtorch\u001b[0m\u001b[1;33m.\u001b[0m\u001b[0mautograd\u001b[0m\u001b[1;33m.\u001b[0m\u001b[0mprofiler\u001b[0m\u001b[1;33m.\u001b[0m\u001b[0mrecord_function\u001b[0m\u001b[1;33m(\u001b[0m\u001b[0mprofile_name\u001b[0m\u001b[1;33m)\u001b[0m\u001b[1;33m:\u001b[0m\u001b[1;33m\u001b[0m\u001b[1;33m\u001b[0m\u001b[0m\n\u001b[1;32m---> 89\u001b[1;33m                     \u001b[1;32mreturn\u001b[0m \u001b[0mfunc\u001b[0m\u001b[1;33m(\u001b[0m\u001b[1;33m*\u001b[0m\u001b[0margs\u001b[0m\u001b[1;33m,\u001b[0m \u001b[1;33m**\u001b[0m\u001b[0mkwargs\u001b[0m\u001b[1;33m)\u001b[0m\u001b[1;33m\u001b[0m\u001b[1;33m\u001b[0m\u001b[0m\n\u001b[0m\u001b[0;32m     90\u001b[0m             \u001b[1;32mreturn\u001b[0m \u001b[0mwrapper\u001b[0m\u001b[1;33m\u001b[0m\u001b[1;33m\u001b[0m\u001b[0m\n\u001b[0;32m     91\u001b[0m \u001b[1;33m\u001b[0m\u001b[0m\n",
      "\u001b[1;32mC:\\ProgramData\\Anaconda3\\lib\\site-packages\\torch\\autograd\\grad_mode.py\u001b[0m in \u001b[0;36mdecorate_context\u001b[1;34m(*args, **kwargs)\u001b[0m\n\u001b[0;32m     25\u001b[0m         \u001b[1;32mdef\u001b[0m \u001b[0mdecorate_context\u001b[0m\u001b[1;33m(\u001b[0m\u001b[1;33m*\u001b[0m\u001b[0margs\u001b[0m\u001b[1;33m,\u001b[0m \u001b[1;33m**\u001b[0m\u001b[0mkwargs\u001b[0m\u001b[1;33m)\u001b[0m\u001b[1;33m:\u001b[0m\u001b[1;33m\u001b[0m\u001b[1;33m\u001b[0m\u001b[0m\n\u001b[0;32m     26\u001b[0m             \u001b[1;32mwith\u001b[0m \u001b[0mself\u001b[0m\u001b[1;33m.\u001b[0m\u001b[0m__class__\u001b[0m\u001b[1;33m(\u001b[0m\u001b[1;33m)\u001b[0m\u001b[1;33m:\u001b[0m\u001b[1;33m\u001b[0m\u001b[1;33m\u001b[0m\u001b[0m\n\u001b[1;32m---> 27\u001b[1;33m                 \u001b[1;32mreturn\u001b[0m \u001b[0mfunc\u001b[0m\u001b[1;33m(\u001b[0m\u001b[1;33m*\u001b[0m\u001b[0margs\u001b[0m\u001b[1;33m,\u001b[0m \u001b[1;33m**\u001b[0m\u001b[0mkwargs\u001b[0m\u001b[1;33m)\u001b[0m\u001b[1;33m\u001b[0m\u001b[1;33m\u001b[0m\u001b[0m\n\u001b[0m\u001b[0;32m     28\u001b[0m         \u001b[1;32mreturn\u001b[0m \u001b[0mcast\u001b[0m\u001b[1;33m(\u001b[0m\u001b[0mF\u001b[0m\u001b[1;33m,\u001b[0m \u001b[0mdecorate_context\u001b[0m\u001b[1;33m)\u001b[0m\u001b[1;33m\u001b[0m\u001b[1;33m\u001b[0m\u001b[0m\n\u001b[0;32m     29\u001b[0m \u001b[1;33m\u001b[0m\u001b[0m\n",
      "\u001b[1;32mC:\\ProgramData\\Anaconda3\\lib\\site-packages\\torch\\optim\\adam.py\u001b[0m in \u001b[0;36mstep\u001b[1;34m(self, closure)\u001b[0m\n\u001b[0;32m    106\u001b[0m \u001b[1;33m\u001b[0m\u001b[0m\n\u001b[0;32m    107\u001b[0m             \u001b[0mbeta1\u001b[0m\u001b[1;33m,\u001b[0m \u001b[0mbeta2\u001b[0m \u001b[1;33m=\u001b[0m \u001b[0mgroup\u001b[0m\u001b[1;33m[\u001b[0m\u001b[1;34m'betas'\u001b[0m\u001b[1;33m]\u001b[0m\u001b[1;33m\u001b[0m\u001b[1;33m\u001b[0m\u001b[0m\n\u001b[1;32m--> 108\u001b[1;33m             F.adam(params_with_grad,\n\u001b[0m\u001b[0;32m    109\u001b[0m                    \u001b[0mgrads\u001b[0m\u001b[1;33m,\u001b[0m\u001b[1;33m\u001b[0m\u001b[1;33m\u001b[0m\u001b[0m\n\u001b[0;32m    110\u001b[0m                    \u001b[0mexp_avgs\u001b[0m\u001b[1;33m,\u001b[0m\u001b[1;33m\u001b[0m\u001b[1;33m\u001b[0m\u001b[0m\n",
      "\u001b[1;32mC:\\ProgramData\\Anaconda3\\lib\\site-packages\\torch\\optim\\_functional.py\u001b[0m in \u001b[0;36madam\u001b[1;34m(params, grads, exp_avgs, exp_avg_sqs, max_exp_avg_sqs, state_steps, amsgrad, beta1, beta2, lr, weight_decay, eps)\u001b[0m\n\u001b[0;32m     94\u001b[0m         \u001b[0mstep_size\u001b[0m \u001b[1;33m=\u001b[0m \u001b[0mlr\u001b[0m \u001b[1;33m/\u001b[0m \u001b[0mbias_correction1\u001b[0m\u001b[1;33m\u001b[0m\u001b[1;33m\u001b[0m\u001b[0m\n\u001b[0;32m     95\u001b[0m \u001b[1;33m\u001b[0m\u001b[0m\n\u001b[1;32m---> 96\u001b[1;33m         \u001b[0mparam\u001b[0m\u001b[1;33m.\u001b[0m\u001b[0maddcdiv_\u001b[0m\u001b[1;33m(\u001b[0m\u001b[0mexp_avg\u001b[0m\u001b[1;33m,\u001b[0m \u001b[0mdenom\u001b[0m\u001b[1;33m,\u001b[0m \u001b[0mvalue\u001b[0m\u001b[1;33m=\u001b[0m\u001b[1;33m-\u001b[0m\u001b[0mstep_size\u001b[0m\u001b[1;33m)\u001b[0m\u001b[1;33m\u001b[0m\u001b[1;33m\u001b[0m\u001b[0m\n\u001b[0m\u001b[0;32m     97\u001b[0m \u001b[1;33m\u001b[0m\u001b[0m\n\u001b[0;32m     98\u001b[0m \u001b[1;33m\u001b[0m\u001b[0m\n",
      "\u001b[1;31mKeyboardInterrupt\u001b[0m: "
     ]
    }
   ],
   "source": [
    "print(\"epoch\\t loss\\t\")\n",
    "for i in range(epochs):\n",
    "     batch_loss = []\n",
    "    # start和end分别是提取一个batch数据的起始和终止下标\n",
    "     for start in range(0, len(x_tra), batch_size):\n",
    "        end = start + batch_size if start + batch_size < len(x_tra) else len(x_tra)\n",
    "        xx = torch.tensor(x_tra[start:end], dtype = torch.float, requires_grad = False).to(device)\n",
    "        yy = torch.tensor(y_tra[start:end], dtype = torch.float, requires_grad = False).to(device)\n",
    "        predict = model(xx)\n",
    "        loss =loss_func(predict, yy)\n",
    "        optim.zero_grad()\n",
    "        loss.backward()\n",
    "        optim.step()\n",
    "        step += 1\n",
    "        batch_loss.append(loss.data.cpu().numpy())\n",
    "    \n",
    "    # 每隔100步输出一下损失值（loss）\n",
    "     if i % 100==0:\n",
    "        losses.append(np.mean(batch_loss))\n",
    "        print(\"epoch :{},step : {} , loss : {}\".format(i+1,step,loss))"
   ]
  },
  {
   "cell_type": "code",
   "execution_count": 424,
   "metadata": {
    "ExecuteTime": {
     "end_time": "2021-11-08T05:21:10.584630Z",
     "start_time": "2021-11-08T05:21:10.581629Z"
    }
   },
   "outputs": [],
   "source": [
    "#test=pd.DataFrame(data=losses)\n",
    "#test.to_csv('./loss_resnet.csv',encoding='gbk')"
   ]
  },
  {
   "cell_type": "code",
   "execution_count": 490,
   "metadata": {
    "ExecuteTime": {
     "end_time": "2021-11-08T06:09:04.325184Z",
     "start_time": "2021-11-08T06:09:04.283174Z"
    }
   },
   "outputs": [],
   "source": [
    "torch.save(model,\"resnet.pth\")"
   ]
  },
  {
   "cell_type": "code",
   "execution_count": 491,
   "metadata": {
    "ExecuteTime": {
     "end_time": "2021-11-08T06:09:04.468217Z",
     "start_time": "2021-11-08T06:09:04.443210Z"
    }
   },
   "outputs": [],
   "source": [
    "model_dict=torch.load(\"resnet.pth\")"
   ]
  },
  {
   "cell_type": "code",
   "execution_count": 492,
   "metadata": {
    "ExecuteTime": {
     "end_time": "2021-11-08T06:09:04.593244Z",
     "start_time": "2021-11-08T06:09:04.577241Z"
    }
   },
   "outputs": [],
   "source": [
    "X_ver = minmaxscaler(X_test)\n",
    "Y_ver = minmaxscaler(Y_test)"
   ]
  },
  {
   "cell_type": "code",
   "execution_count": 493,
   "metadata": {
    "ExecuteTime": {
     "end_time": "2021-11-08T06:09:05.056349Z",
     "start_time": "2021-11-08T06:09:04.883310Z"
    }
   },
   "outputs": [
    {
     "data": {
      "text/plain": [
       "Text(0, 0.5, 's11')"
      ]
     },
     "execution_count": 493,
     "metadata": {},
     "output_type": "execute_result"
    },
    {
     "data": {
      "image/png": "[encoded data removed]",
      "text/plain": [
       "<Figure size 720x504 with 1 Axes>"
      ]
     },
     "metadata": {
      "needs_background": "light"
     },
     "output_type": "display_data"
    }
   ],
   "source": [
    "i =1000\n",
    "\n",
    "x_ver = Variable(torch.from_numpy(X_ver))\n",
    "x_ver = x_ver.float()\n",
    "y_ver = Variable(torch.from_numpy(Y_ver))\n",
    "y_ver = y_ver.float()\n",
    "r=x_ver[i].unsqueeze(0)\n",
    "r = r.permute(0,2,1)\n",
    "predicted1 = model_dict(r.to(device))\n",
    "predicted1 = predicted1.detach().cpu().numpy()\n",
    "b=predicted1.squeeze(0)\n",
    "fig, ax = plt.subplots(figsize = (10, 7))\n",
    "#plt.scatter(X[: ,12],predicted1)\n",
    "ax.plot(b, label='Prediction', linestyle = '--')\n",
    "ax.plot(y_ver[i], label='real', linestyle = '-')\n",
    "ax.legend()\n",
    "ax.set_xlabel('f')\n",
    "ax.set_ylabel('s11')"
   ]
  },
  {
   "cell_type": "code",
   "execution_count": 483,
   "metadata": {
    "ExecuteTime": {
     "end_time": "2021-11-08T06:08:42.513735Z",
     "start_time": "2021-11-08T06:08:42.499732Z"
    }
   },
   "outputs": [
    {
     "data": {
      "text/plain": [
       "tensor(0.9826)"
      ]
     },
     "execution_count": 483,
     "metadata": {},
     "output_type": "execute_result"
    }
   ],
   "source": [
    "cor2 = calc_corr(b,y_ver[i])\n",
    "cor2"
   ]
  },
  {
   "cell_type": "code",
   "execution_count": 448,
   "metadata": {
    "ExecuteTime": {
     "end_time": "2021-11-08T06:00:12.478298Z",
     "start_time": "2021-11-08T06:00:12.468296Z"
    }
   },
   "outputs": [],
   "source": [
    "e = fan_minmaxscaler(y_ver[i],Y)\n",
    "a = fan_minmaxscaler(b,Y)"
   ]
  },
  {
   "cell_type": "code",
   "execution_count": 449,
   "metadata": {
    "ExecuteTime": {
     "end_time": "2021-11-08T06:00:12.830390Z",
     "start_time": "2021-11-08T06:00:12.819388Z"
    }
   },
   "outputs": [],
   "source": [
    "test=pd.DataFrame(data=a)\n",
    "test.to_csv('./resnet_predicted1.csv',encoding='gbk')"
   ]
  },
  {
   "cell_type": "code",
   "execution_count": 75,
   "metadata": {
    "ExecuteTime": {
     "end_time": "2021-10-28T03:14:48.825682Z",
     "start_time": "2021-10-28T03:14:48.813679Z"
    }
   },
   "outputs": [],
   "source": [
    "#test=pd.DataFrame(data=e)\n",
    "#test.to_csv('./cnn_real.csv',encoding='gbk')"
   ]
  },
  {
   "cell_type": "code",
   "execution_count": null,
   "metadata": {},
   "outputs": [],
   "source": []
  }
 ],
 "metadata": {
  "kernelspec": {
   "display_name": "Python 3",
   "language": "python",
   "name": "python3"
  },
  "language_info": {
   "codemirror_mode": {
    "name": "ipython",
    "version": 3
   },
   "file_extension": ".py",
   "mimetype": "text/x-python",
   "name": "python",
   "nbconvert_exporter": "python",
   "pygments_lexer": "ipython3",
   "version": "3.8.5"
  }
 },
 "nbformat": 4,
 "nbformat_minor": 4
}
