{
 "cells": [
  {
   "cell_type": "code",
   "execution_count": 1,
   "metadata": {
    "ExecuteTime": {
     "end_time": "2021-10-27T10:58:01.872489Z",
     "start_time": "2021-10-27T10:58:00.768181Z"
    }
   },
   "outputs": [
    {
     "ename": "OSError",
     "evalue": "[WinError 1455] 页面文件太小，无法完成操作。 Error loading \"C:\\ProgramData\\Anaconda3\\lib\\site-packages\\torch\\lib\\cusolverMg64_11.dll\" or one of its dependencies.",
     "output_type": "error",
     "traceback": [
      "\u001b[1;31m---------------------------------------------------------------------------\u001b[0m",
      "\u001b[1;31mOSError\u001b[0m                                   Traceback (most recent call last)",
      "\u001b[1;32m<ipython-input-1-819b9c369928>\u001b[0m in \u001b[0;36m<module>\u001b[1;34m\u001b[0m\n\u001b[1;32m----> 1\u001b[1;33m \u001b[1;32mimport\u001b[0m \u001b[0mtorch\u001b[0m\u001b[1;33m,\u001b[0m \u001b[0mrandom\u001b[0m\u001b[1;33m\u001b[0m\u001b[1;33m\u001b[0m\u001b[0m\n\u001b[0m\u001b[0;32m      2\u001b[0m \u001b[1;32mimport\u001b[0m \u001b[0mtorch\u001b[0m\u001b[1;33m.\u001b[0m\u001b[0mnn\u001b[0m \u001b[1;32mas\u001b[0m \u001b[0mnn\u001b[0m\u001b[1;33m\u001b[0m\u001b[1;33m\u001b[0m\u001b[0m\n\u001b[0;32m      3\u001b[0m \u001b[1;32mimport\u001b[0m \u001b[0mtorch\u001b[0m\u001b[1;33m.\u001b[0m\u001b[0moptim\u001b[0m \u001b[1;32mas\u001b[0m \u001b[0moptim\u001b[0m\u001b[1;33m\u001b[0m\u001b[1;33m\u001b[0m\u001b[0m\n\u001b[0;32m      4\u001b[0m \u001b[1;32mimport\u001b[0m \u001b[0mtorch\u001b[0m\u001b[1;33m\u001b[0m\u001b[1;33m\u001b[0m\u001b[0m\n\u001b[0;32m      5\u001b[0m \u001b[1;32mimport\u001b[0m \u001b[0mtorch\u001b[0m\u001b[1;33m.\u001b[0m\u001b[0mnn\u001b[0m \u001b[1;32mas\u001b[0m \u001b[0mnn\u001b[0m\u001b[1;33m\u001b[0m\u001b[1;33m\u001b[0m\u001b[0m\n",
      "\u001b[1;32mC:\\ProgramData\\Anaconda3\\lib\\site-packages\\torch\\__init__.py\u001b[0m in \u001b[0;36m<module>\u001b[1;34m\u001b[0m\n\u001b[0;32m    121\u001b[0m                 \u001b[0merr\u001b[0m \u001b[1;33m=\u001b[0m \u001b[0mctypes\u001b[0m\u001b[1;33m.\u001b[0m\u001b[0mWinError\u001b[0m\u001b[1;33m(\u001b[0m\u001b[0mlast_error\u001b[0m\u001b[1;33m)\u001b[0m\u001b[1;33m\u001b[0m\u001b[1;33m\u001b[0m\u001b[0m\n\u001b[0;32m    122\u001b[0m                 \u001b[0merr\u001b[0m\u001b[1;33m.\u001b[0m\u001b[0mstrerror\u001b[0m \u001b[1;33m+=\u001b[0m \u001b[1;34mf' Error loading \"{dll}\" or one of its dependencies.'\u001b[0m\u001b[1;33m\u001b[0m\u001b[1;33m\u001b[0m\u001b[0m\n\u001b[1;32m--> 123\u001b[1;33m                 \u001b[1;32mraise\u001b[0m \u001b[0merr\u001b[0m\u001b[1;33m\u001b[0m\u001b[1;33m\u001b[0m\u001b[0m\n\u001b[0m\u001b[0;32m    124\u001b[0m             \u001b[1;32melif\u001b[0m \u001b[0mres\u001b[0m \u001b[1;32mis\u001b[0m \u001b[1;32mnot\u001b[0m \u001b[1;32mNone\u001b[0m\u001b[1;33m:\u001b[0m\u001b[1;33m\u001b[0m\u001b[1;33m\u001b[0m\u001b[0m\n\u001b[0;32m    125\u001b[0m                 \u001b[0mis_loaded\u001b[0m \u001b[1;33m=\u001b[0m \u001b[1;32mTrue\u001b[0m\u001b[1;33m\u001b[0m\u001b[1;33m\u001b[0m\u001b[0m\n",
      "\u001b[1;31mOSError\u001b[0m: [WinError 1455] 页面文件太小，无法完成操作。 Error loading \"C:\\ProgramData\\Anaconda3\\lib\\site-packages\\torch\\lib\\cusolverMg64_11.dll\" or one of its dependencies."
     ]
    }
   ],
   "source": [
    "import torch, random\n",
    "import torch.nn as nn\n",
    "import torch.optim as optim\n",
    "import torch \n",
    "import torch.nn as nn \n",
    "from torch.autograd import Variable \n",
    "import torch.utils.data as Data \n",
    "import torchvision \n",
    "import matplotlib.pyplot as plt \n",
    "import numpy as np\n",
    "import pandas as pd\n",
    "import csv\n",
    "import codecs\n",
    "from sklearn.model_selection import cross_val_score,train_test_split"
   ]
  },
  {
   "cell_type": "code",
   "execution_count": null,
   "metadata": {
    "ExecuteTime": {
     "end_time": "2021-10-27T10:58:01.875151Z",
     "start_time": "2021-10-27T10:58:00.893Z"
    }
   },
   "outputs": [],
   "source": [
    "df = pd.read_csv(r\"C:\\Users\\dyy\\Desktop\\12.csv\")"
   ]
  },
  {
   "cell_type": "code",
   "execution_count": null,
   "metadata": {
    "ExecuteTime": {
     "end_time": "2021-10-27T10:58:01.876151Z",
     "start_time": "2021-10-27T10:58:01.055Z"
    }
   },
   "outputs": [],
   "source": [
    "def minmaxscaler(df):\n",
    "    min = np.amin(df)\n",
    "    max = np.amax(df)    \n",
    "    return (df - min)/(max-min)"
   ]
  },
  {
   "cell_type": "code",
   "execution_count": null,
   "metadata": {
    "ExecuteTime": {
     "end_time": "2021-10-27T10:58:01.877152Z",
     "start_time": "2021-10-27T10:58:01.197Z"
    }
   },
   "outputs": [],
   "source": [
    "X = df.values[:, 0:8]\n",
    "Y = df.values[:, 8:229]"
   ]
  },
  {
   "cell_type": "code",
   "execution_count": 2,
   "metadata": {
    "ExecuteTime": {
     "end_time": "2021-10-27T10:58:02.172218Z",
     "start_time": "2021-10-27T10:58:02.158214Z"
    }
   },
   "outputs": [
    {
     "ename": "NameError",
     "evalue": "name 'train_test_split' is not defined",
     "output_type": "error",
     "traceback": [
      "\u001b[1;31m---------------------------------------------------------------------------\u001b[0m",
      "\u001b[1;31mNameError\u001b[0m                                 Traceback (most recent call last)",
      "\u001b[1;32m<ipython-input-2-b193375d2ba8>\u001b[0m in \u001b[0;36m<module>\u001b[1;34m\u001b[0m\n\u001b[1;32m----> 1\u001b[1;33m \u001b[0mX_train\u001b[0m\u001b[1;33m,\u001b[0m \u001b[0mX_test\u001b[0m\u001b[1;33m,\u001b[0m \u001b[0mY_train\u001b[0m\u001b[1;33m,\u001b[0m \u001b[0mY_test\u001b[0m \u001b[1;33m=\u001b[0m \u001b[0mtrain_test_split\u001b[0m\u001b[1;33m(\u001b[0m\u001b[0mX\u001b[0m\u001b[1;33m,\u001b[0m \u001b[0mY\u001b[0m\u001b[1;33m,\u001b[0m \u001b[0mtest_size\u001b[0m\u001b[1;33m=\u001b[0m\u001b[1;36m0.2\u001b[0m\u001b[1;33m,\u001b[0m \u001b[0mrandom_state\u001b[0m\u001b[1;33m=\u001b[0m\u001b[1;36m42\u001b[0m\u001b[1;33m)\u001b[0m\u001b[1;33m\u001b[0m\u001b[1;33m\u001b[0m\u001b[0m\n\u001b[0m",
      "\u001b[1;31mNameError\u001b[0m: name 'train_test_split' is not defined"
     ]
    }
   ],
   "source": [
    "X_train, X_test, Y_train, Y_test = train_test_split(X, Y, test_size=0.2, random_state=42)"
   ]
  },
  {
   "cell_type": "code",
   "execution_count": 30,
   "metadata": {
    "ExecuteTime": {
     "end_time": "2021-07-30T13:22:02.988642Z",
     "start_time": "2021-07-30T13:22:02.985641Z"
    }
   },
   "outputs": [],
   "source": [
    "x_tra = torch.from_numpy(X_train)\n",
    "x_tra = x_tra.float()\n",
    "x_tes = torch.from_numpy(X_test)\n",
    "x_tes = x_tes.float()\n",
    "y_tra = torch.from_numpy(Y_train)\n",
    "y_tra = y_tra.float()\n",
    "y_tes = torch.from_numpy(Y_test)\n",
    "y_tes = y_tes.float()"
   ]
  },
  {
   "cell_type": "code",
   "execution_count": null,
   "metadata": {},
   "outputs": [],
   "source": []
  },
  {
   "cell_type": "code",
   "execution_count": 31,
   "metadata": {
    "ExecuteTime": {
     "end_time": "2021-07-30T13:22:04.950619Z",
     "start_time": "2021-07-30T13:22:04.931615Z"
    }
   },
   "outputs": [],
   "source": [
    "class RBFN(nn.Module):\n",
    "    \"\"\"\n",
    "    以高斯核作为径向基函数\n",
    "    \"\"\"\n",
    "    def __init__(self, centers, n_out=3):\n",
    "        \"\"\"\n",
    "        :param centers: shape=[center_num,data_dim]\n",
    "        :param n_out:\n",
    "        \"\"\"\n",
    "        super(RBFN, self).__init__()\n",
    "        self.n_out = n_out\n",
    "        self.num_centers = centers.size(0) # 隐层节点的个数\n",
    "        self.dim_centure = centers.size(1) # \n",
    "        self.centers = nn.Parameter(centers)\n",
    "        # self.beta = nn.Parameter(torch.ones(1, self.num_centers), requires_grad=True)\n",
    "        self.beta = torch.ones(1, self.num_centers)*10\n",
    "        # 对线性层的输入节点数目进行了修改\n",
    "        self.linear = nn.Linear(self.num_centers+self.dim_centure, self.n_out, bias=True)\n",
    "        self.initialize_weights()# 创建对象时自动执行\n",
    " \n",
    " \n",
    "    def kernel_fun(self, batches):\n",
    "        n_input = batches.size(0)  # number of inputs\n",
    "        A = self.centers.view(self.num_centers, -1).repeat(n_input, 1, 1)\n",
    "        B = batches.view(n_input, -1).unsqueeze(1).repeat(1, self.num_centers, 1)\n",
    "        C = torch.exp(-self.beta.mul((A - B).pow(2).sum(2, keepdim=False)))\n",
    "        return C\n",
    " \n",
    "    def forward(self, batches):\n",
    "        radial_val = self.kernel_fun(batches)\n",
    "        class_score = self.linear(torch.cat([batches, radial_val], dim=1))\n",
    "        return class_score\n",
    " \n",
    "    def initialize_weights(self, ):\n",
    "        \"\"\"\n",
    "        网络权重初始化\n",
    "        :return:\n",
    "        \"\"\"\n",
    "        for m in self.modules():\n",
    "            if isinstance(m, nn.Conv2d):\n",
    "                m.weight.data.normal_(0, 0.02)\n",
    "                m.bias.data.zero_()\n",
    "            elif isinstance(m, nn.ConvTranspose2d):\n",
    "                m.weight.data.normal_(0, 0.02)\n",
    "                m.bias.data.zero_()\n",
    "            elif isinstance(m, nn.Linear):\n",
    "                m.weight.data.normal_(0, 0.02)\n",
    "                m.bias.data.zero_()\n",
    " \n",
    "    def print_network(self):\n",
    "        num_params = 0\n",
    "        for param in self.parameters():\n",
    "            num_params += param.numel()\n",
    "        print(self)\n",
    "        print('Total number of parameters: %d' % num_params)\n"
   ]
  },
  {
   "cell_type": "code",
   "execution_count": 32,
   "metadata": {
    "ExecuteTime": {
     "end_time": "2021-07-30T13:22:06.133593Z",
     "start_time": "2021-07-30T13:22:06.131593Z"
    },
    "scrolled": true
   },
   "outputs": [],
   "source": [
    "#lossData=[[]]\n",
    "#model = RBFN()\n",
    "#loss_func = nn.MSELoss()\n",
    "#optim = torch.optim.SGD(model.parameters(), 0.0001)\n",
    "#batch_size =64\n",
    "#epochs = 100\n",
    "#print(\"epoch\\t loss\\t\")#\n",
    "#losses = []"
   ]
  },
  {
   "cell_type": "code",
   "execution_count": 33,
   "metadata": {
    "ExecuteTime": {
     "end_time": "2021-07-30T13:22:06.544689Z",
     "start_time": "2021-07-30T13:22:06.537687Z"
    }
   },
   "outputs": [],
   "source": [
    "#for i in range(epochs):\n",
    "#     batch_loss = []\n",
    "#    # start和end分别是提取一个batch数据的起始和终止下标\n",
    "#     for start in range(0, len(x_tra), batch_size):\n",
    "#        end = start + batch_size if start + batch_size < len(x_tra) else len(x_tra)\n",
    "#        xx = torch.tensor(x_tra[start:end], dtype = torch.float, requires_grad = False)\n",
    "#        yy = torch.tensor(y_tra[start:end], dtype = torch.float, requires_grad = False)\n",
    "#        predict = model(xx)\n",
    "#        loss =loss_func(predict, yy)\n",
    "#        optim.zero_grad()\n",
    "#        loss.backward()\n",
    "#        optim.step()\n",
    "#        batch_loss.append(loss.data.numpy())\n",
    "#    \n",
    "#    # 每隔100步输出一下损失值（loss）\n",
    "#     if i % 100==0:\n",
    "#        losses.append(np.mean(batch_loss))\n",
    "#        print(i, np.mean(batch_loss))"
   ]
  },
  {
   "cell_type": "code",
   "execution_count": 34,
   "metadata": {
    "ExecuteTime": {
     "end_time": "2021-07-30T13:25:56.158515Z",
     "start_time": "2021-07-30T13:22:12.203446Z"
    }
   },
   "outputs": [
    {
     "name": "stdout",
     "output_type": "stream",
     "text": [
      "torch.Size([406, 8])\n",
      "0 304.1343\n",
      "100 17.133537\n",
      "200 12.814334\n",
      "300 11.29296\n",
      "400 10.488705\n",
      "500 9.983768\n",
      "600 9.632152\n",
      "700 9.368119\n",
      "800 9.160061\n",
      "900 8.989668\n",
      "1000 8.846185\n",
      "1100 8.722335\n",
      "1200 8.613018\n",
      "1300 8.514587\n",
      "1400 8.425069\n",
      "1500 8.342523\n",
      "1600 8.265205\n",
      "1700 8.190881\n",
      "1800 8.119601\n",
      "1900 8.052018\n",
      "2000 7.9872017\n",
      "2100 7.9251995\n",
      "2200 7.8661056\n",
      "2300 7.8098702\n",
      "2400 7.7561846\n",
      "2500 7.704711\n",
      "2600 7.6551595\n",
      "2700 7.6074314\n",
      "2800 7.5614567\n",
      "2900 7.5170913\n",
      "3000 7.4741397\n",
      "3100 7.4323645\n",
      "3200 7.3916717\n",
      "3300 7.352025\n",
      "3400 7.3133917\n",
      "3500 7.2757816\n",
      "3600 7.239143\n",
      "3700 7.2034407\n",
      "3800 7.168642\n",
      "3900 7.134676\n",
      "4000 7.101524\n",
      "4100 7.0689306\n",
      "4200 7.0370426\n",
      "4300 7.005863\n",
      "4400 6.9753814\n",
      "4500 6.9456043\n",
      "4600 6.9165144\n",
      "4700 6.888053\n",
      "4800 6.8601017\n",
      "4900 6.8324027\n",
      "5000 6.804956\n",
      "5100 6.7779555\n",
      "5200 6.751392\n",
      "5300 6.7251477\n",
      "5400 6.6992702\n",
      "5500 6.673775\n",
      "5600 6.648646\n",
      "5700 6.623863\n",
      "5800 6.5993752\n",
      "5900 6.575166\n",
      "6000 6.5512896\n",
      "6100 6.527731\n",
      "6200 6.5044804\n",
      "6300 6.4815245\n",
      "6400 6.458783\n",
      "6500 6.43622\n",
      "6600 6.4139895\n",
      "6700 6.392045\n",
      "6800 6.370361\n",
      "6900 6.348928\n",
      "7000 6.3277316\n",
      "7100 6.3067756\n",
      "7200 6.286067\n",
      "7300 6.2656035\n",
      "7400 6.245366\n",
      "7500 6.2253056\n",
      "7600 6.2054696\n",
      "7700 6.1858525\n",
      "7800 6.166448\n",
      "7900 6.147269\n",
      "8000 6.1283045\n",
      "8100 6.1095486\n",
      "8200 6.091001\n",
      "8300 6.072656\n",
      "8400 6.054506\n",
      "8500 6.0365405\n",
      "8600 6.01876\n",
      "8700 6.0011826\n",
      "8800 5.983792\n",
      "8900 5.9665327\n",
      "9000 5.94952\n",
      "9100 5.9327803\n",
      "9200 5.916268\n",
      "9300 5.8998847\n",
      "9400 5.883667\n",
      "9500 5.8676133\n",
      "9600 5.851704\n",
      "9700 5.835932\n",
      "9800 5.820267\n",
      "9900 5.8047404\n",
      "10000 5.7893395\n",
      "10100 5.774062\n",
      "10200 5.7589083\n",
      "10300 5.7438784\n",
      "10400 5.7289734\n",
      "10500 5.7142\n",
      "10600 5.699488\n",
      "10700 5.6848726\n",
      "10800 5.6703606\n",
      "10900 5.655956\n",
      "11000 5.641652\n",
      "11100 5.62745\n",
      "11200 5.613352\n",
      "11300 5.599358\n",
      "11400 5.585468\n",
      "11500 5.5716815\n",
      "11600 5.5580006\n",
      "11700 5.5444255\n",
      "11800 5.5309525\n",
      "11900 5.5175614\n",
      "12000 5.504282\n",
      "12100 5.491108\n",
      "12200 5.4780383\n",
      "12300 5.4650745\n",
      "12400 5.452213\n",
      "12500 5.4394574\n",
      "12600 5.426817\n",
      "12700 5.414291\n",
      "12800 5.4018884\n",
      "12900 5.3896027\n",
      "13000 5.3774056\n",
      "13100 5.3652854\n",
      "13200 5.3532357\n",
      "13300 5.341256\n",
      "13400 5.329375\n",
      "13500 5.3175735\n",
      "13600 5.3058467\n",
      "13700 5.294197\n",
      "13800 5.2826295\n",
      "13900 5.271143\n",
      "14000 5.259724\n",
      "14100 5.248371\n",
      "14200 5.237088\n",
      "14300 5.2258615\n",
      "14400 5.214708\n",
      "14500 5.2036505\n",
      "14600 5.1926775\n",
      "14700 5.1817884\n",
      "14800 5.1709833\n",
      "14900 5.1602745\n",
      "15000 5.1496778\n",
      "15100 5.139178\n",
      "15200 5.128782\n",
      "15300 5.1185126\n",
      "15400 5.1083746\n",
      "15500 5.0983224\n",
      "15600 5.0883117\n",
      "15700 5.0783386\n",
      "15800 5.068419\n",
      "15900 5.0584993\n",
      "16000 5.048619\n",
      "16100 5.038773\n",
      "16200 5.0289683\n",
      "16300 5.0192113\n",
      "16400 5.0094976\n",
      "16500 4.999823\n",
      "16600 4.990175\n",
      "16700 4.9805517\n",
      "16800 4.970982\n",
      "16900 4.961502\n",
      "17000 4.952077\n",
      "17100 4.9426847\n",
      "17200 4.933288\n",
      "17300 4.9239435\n",
      "17400 4.9146523\n",
      "17500 4.9053993\n",
      "17600 4.89618\n",
      "17700 4.8870015\n",
      "17800 4.877851\n",
      "17900 4.868716\n",
      "18000 4.859623\n",
      "18100 4.850573\n",
      "18200 4.8415713\n",
      "18300 4.8326178\n",
      "18400 4.823707\n",
      "18500 4.814838\n",
      "18600 4.80601\n",
      "18700 4.797224\n",
      "18800 4.7884793\n",
      "18900 4.779777\n",
      "19000 4.771117\n",
      "19100 4.7624993\n",
      "19200 4.753923\n",
      "19300 4.745401\n",
      "19400 4.736912\n",
      "19500 4.728454\n",
      "19600 4.7200394\n",
      "19700 4.711664\n",
      "19800 4.703327\n",
      "19900 4.6950474\n"
     ]
    }
   ],
   "source": [
    "losses = []\n",
    "if __name__ ==\"__main__\":\n",
    "    data = x_tra\n",
    "    label = y_tra\n",
    "    print(data.size())\n",
    "    centers = data[0:1000,:]\n",
    "    rbf = RBFN(centers,221)\n",
    "    params = rbf.parameters()\n",
    "    loss_fn = torch.nn.MSELoss()\n",
    "    optimizer = torch.optim.SGD(params,lr=0.1,momentum=0.9)\n",
    "    batch_loss = []\n",
    "    for i in range(20000):\n",
    "        \n",
    "        optimizer.zero_grad()\n",
    " \n",
    "        y = rbf.forward(data)\n",
    "        loss = loss_fn(y,label)\n",
    "        loss.backward()\n",
    "        optimizer.step()\n",
    "        batch_loss.append(loss.data.numpy())\n",
    "    \n",
    "    # 每隔100步输出一下损失值（loss）\n",
    "        if i % 100==0:\n",
    "            losses.append(np.mean(batch_loss))\n",
    "            print(i, np.mean(batch_loss))\n",
    "    # 加载使用\n",
    "  #  y = rbf.forward(data)\n",
    "   # print(y.data)\n",
    "   # print(label.data)\n"
   ]
  },
  {
   "cell_type": "code",
   "execution_count": 11,
   "metadata": {
    "ExecuteTime": {
     "end_time": "2021-07-30T11:06:18.989235Z",
     "start_time": "2021-07-30T11:06:18.843711Z"
    }
   },
   "outputs": [
    {
     "data": {
      "text/plain": [
       "Text(0, 0.5, 'loss')"
      ]
     },
     "execution_count": 11,
     "metadata": {},
     "output_type": "execute_result"
    },
    {
     "data": {
      "image/png": "[encoded data removed]",
      "text/plain": [
       "<Figure size 720x504 with 1 Axes>"
      ]
     },
     "metadata": {
      "needs_background": "light"
     },
     "output_type": "display_data"
    }
   ],
   "source": [
    "fig = plt.figure(figsize=(10, 7))\n",
    "plt.plot(np.arange(len(losses))*100,losses, 'o-')\n",
    "plt.xlabel('epoch')\n",
    "plt.ylabel('loss')"
   ]
  },
  {
   "cell_type": "code",
   "execution_count": 12,
   "metadata": {
    "ExecuteTime": {
     "end_time": "2021-07-30T11:07:24.048880Z",
     "start_time": "2021-07-30T11:07:24.027375Z"
    }
   },
   "outputs": [],
   "source": [
    "#test=pd.DataFrame(data=losses)\n",
    "#test.to_csv('./loss_RBF.csv',encoding='gbk')"
   ]
  },
  {
   "cell_type": "code",
   "execution_count": 53,
   "metadata": {
    "ExecuteTime": {
     "end_time": "2021-07-30T14:08:20.826151Z",
     "start_time": "2021-07-30T14:08:20.821151Z"
    }
   },
   "outputs": [],
   "source": [
    "X_ver = X[291,]\n",
    "Y_ver = Y[291,]"
   ]
  },
  {
   "cell_type": "code",
   "execution_count": 54,
   "metadata": {
    "ExecuteTime": {
     "end_time": "2021-07-30T14:08:21.001097Z",
     "start_time": "2021-07-30T14:08:20.997096Z"
    }
   },
   "outputs": [],
   "source": [
    "x_ver = torch.from_numpy(X_ver)\n",
    "x_ver = x_ver.float()\n",
    "y_ver = torch.from_numpy(Y_ver)\n",
    "y_ver = y_ver.float()\n",
    "x_ver=torch.unsqueeze(x_ver,0)"
   ]
  },
  {
   "cell_type": "code",
   "execution_count": 55,
   "metadata": {
    "ExecuteTime": {
     "end_time": "2021-07-30T14:08:21.408932Z",
     "start_time": "2021-07-30T14:08:21.396929Z"
    }
   },
   "outputs": [
    {
     "name": "stdout",
     "output_type": "stream",
     "text": [
      "tensor([ -4.4162,  -4.9482,  -5.5254,  -6.1549,  -6.8351,  -7.5688,  -8.3706,\n",
      "         -9.2378, -10.1790, -11.2025, -12.3230, -13.5501, -14.9023, -16.4122,\n",
      "        -18.1115, -20.0588, -22.3415, -25.1196, -28.7054, -32.8411, -33.9939,\n",
      "        -33.1221, -31.0391, -29.0026, -27.4516, -26.3726, -25.6549, -25.2224,\n",
      "        -25.0198, -25.0133, -25.1837, -25.5125, -25.9879, -26.5827, -27.1934,\n",
      "        -27.7306, -28.1884, -28.3067, -28.0313, -27.3369, -26.0713, -24.7918,\n",
      "        -23.5515, -22.4010, -21.3445, -20.3827, -19.4992, -18.6943, -17.9613,\n",
      "        -17.2837, -16.6631, -16.0918, -15.5622, -15.0731, -14.6237, -14.2044,\n",
      "        -13.8225, -13.4667, -13.1432, -12.8459, -12.5759, -12.3310, -12.1062,\n",
      "        -11.9085, -11.7301, -11.5731, -11.4363, -11.3184, -11.2161, -11.1335,\n",
      "        -11.0661, -11.0171, -10.9818, -10.9657, -10.9683, -10.9885, -11.0287,\n",
      "        -11.0954, -11.1861, -11.3020, -11.4499, -11.6347, -11.8562, -12.1163,\n",
      "        -12.4225, -12.7773, -13.1762, -13.6321, -14.1490, -14.7232, -15.3655,\n",
      "        -16.0777, -16.8736, -17.7541, -18.7399, -19.8411, -21.0806, -22.4654,\n",
      "        -23.8503, -24.9403, -25.4511, -25.0022, -24.1727, -23.1265, -22.0237,\n",
      "        -20.9236, -19.8682, -18.8774, -17.9602, -17.1251, -16.3761, -15.7083,\n",
      "        -15.1177, -14.6065, -14.1652, -13.7923, -13.4819, -13.2338, -13.0440,\n",
      "        -12.9017, -12.8125, -12.7652, -12.7550, -12.7790, -12.8340, -12.9073,\n",
      "        -12.9960, -13.0899, -13.1849, -13.2699, -13.3434, -13.4030, -13.4456,\n",
      "        -13.4778, -13.5010, -13.5193, -13.5292, -13.5451, -13.5641, -13.5950,\n",
      "        -13.6318, -13.6837, -13.7453, -13.8251, -13.9265, -14.0491, -14.1952,\n",
      "        -14.3670, -14.5570, -14.7683, -14.9910, -15.2225, -15.4408, -15.6084,\n",
      "        -15.7551, -15.8981, -16.0422, -16.1954, -16.3503, -16.5096, -16.6728,\n",
      "        -16.8447, -17.0169, -17.1954, -17.3878, -17.5940, -17.8243, -18.0785,\n",
      "        -18.3564, -18.6334, -18.9265, -19.2305, -19.4852, -19.7711, -20.0826,\n",
      "        -20.4108, -20.7180, -20.9418, -20.9814, -21.0017, -20.9867, -20.9510,\n",
      "        -20.8927, -20.7895, -20.6365, -20.4255, -20.1449, -19.7621, -19.2870,\n",
      "        -18.7232, -18.0571, -17.3043, -16.4974, -15.6661, -14.8408, -14.0548,\n",
      "        -13.3269, -12.6608, -12.0586, -11.5099, -11.0208, -10.5763, -10.1738,\n",
      "         -9.8049,  -9.4619,  -9.1395,  -8.8363,  -8.5407,  -8.2558,  -7.9858,\n",
      "         -7.7306,  -7.4910,  -7.2706,  -7.0600,  -6.8625,  -6.6796,  -6.5066,\n",
      "         -6.3492,  -6.2047,  -6.0785,  -5.9708])\n",
      "tensor([ -4.4059,  -4.9297,  -5.4967,  -6.1102,  -6.7733,  -7.4898,  -8.2637,\n",
      "         -9.0997, -10.0034, -10.9813, -12.0416, -13.1944, -14.4525, -15.8327,\n",
      "        -17.3573, -19.0566, -20.9722, -23.1614, -25.6989, -28.6495, -31.8736,\n",
      "        -34.2701, -34.0802, -32.3839, -30.7735, -29.6073, -28.8647, -28.4862,\n",
      "        -28.4314, -28.6849, -29.2561, -30.1836, -31.5452, -33.4735, -36.1281,\n",
      "        -39.1043, -39.0931, -35.5628, -32.1148, -29.3728, -27.1755, -25.3656,\n",
      "        -23.8386, -22.5258, -21.3804, -20.3691, -19.4678, -18.6582, -17.9263,\n",
      "        -17.2611, -16.6541, -16.0983, -15.5882, -15.1193, -14.6882, -14.2918,\n",
      "        -13.9277, -13.5938, -13.2884, -13.0098, -12.7565, -12.5273, -12.3207,\n",
      "        -12.1356, -11.9708, -11.8252, -11.6976, -11.5872, -11.4935, -11.4159,\n",
      "        -11.3544, -11.3095, -11.2820, -11.2734, -11.2857, -11.3214, -11.3838,\n",
      "        -11.4765, -11.6036, -11.7697, -11.9792, -12.2370, -12.5477, -12.9157,\n",
      "        -13.3454, -13.8406, -14.4051, -15.0420, -15.7546, -16.5459, -17.4188,\n",
      "        -18.3758, -19.4186, -20.5471, -21.7555, -23.0265, -24.3166, -25.5318,\n",
      "        -26.5007, -26.9919, -26.8427, -26.1037, -24.9877, -23.7059, -22.3926,\n",
      "        -21.1167, -19.9103, -18.7873, -17.7531, -16.8091, -15.9541, -15.1855,\n",
      "        -14.4995, -13.8915, -13.3562, -12.8879, -12.4808, -12.1291, -11.8273,\n",
      "        -11.5705, -11.3540, -11.1742, -11.0278, -10.9119, -10.8243, -10.7629,\n",
      "        -10.7260, -10.7119, -10.7193, -10.7467, -10.7932, -10.8577, -10.9394,\n",
      "        -11.0371, -11.1496, -11.2749, -11.4102, -11.5512, -11.6928, -11.8292,\n",
      "        -11.9552, -12.0679, -12.1683, -12.2620, -12.3577, -12.4658, -12.5954,\n",
      "        -12.7532, -12.9428, -13.1656, -13.4210, -13.7083, -14.0267, -14.3758,\n",
      "        -14.7562, -15.1689, -15.6148, -16.0938, -16.6027, -17.1333, -17.6715,\n",
      "        -18.1988, -18.6975, -19.1573, -19.5807, -19.9804, -20.3706, -20.7548,\n",
      "        -21.1173, -21.4235, -21.6312, -21.7122, -21.6709, -21.5448, -21.3838,\n",
      "        -21.2279, -21.0933, -20.9732, -20.8444, -20.6771, -20.4431, -20.1226,\n",
      "        -19.7081, -19.2053, -18.6294, -18.0004, -17.3386, -16.6631, -15.9908,\n",
      "        -15.3352, -14.7063, -14.1112, -13.5580, -13.0570, -12.6192, -12.2505,\n",
      "        -11.9462, -11.6879, -11.4462, -11.1888, -10.8895, -10.5364, -10.1344,\n",
      "         -9.7036,  -9.2695,  -8.8515,  -8.4594,  -8.0977,  -7.7685,  -7.4685,\n",
      "         -7.1889,  -6.9196,  -6.6565,  -6.4051,  -6.1766,  -5.9813,  -5.8260,\n",
      "         -5.7151,  -5.6506,  -5.6298,  -5.6442])\n"
     ]
    }
   ],
   "source": [
    "y = rbf.forward(x_ver)\n",
    "y=torch.squeeze(y,0)\n",
    "print(y.data)\n",
    "print(y_ver.data)"
   ]
  },
  {
   "cell_type": "code",
   "execution_count": 56,
   "metadata": {
    "ExecuteTime": {
     "end_time": "2021-07-30T14:08:28.095510Z",
     "start_time": "2021-07-30T14:08:27.925437Z"
    }
   },
   "outputs": [
    {
     "data": {
      "text/plain": [
       "Text(0, 0.5, 's11')"
      ]
     },
     "execution_count": 56,
     "metadata": {},
     "output_type": "execute_result"
    },
    {
     "data": {
      "image/png": "[encoded data removed]",
      "text/plain": [
       "<Figure size 720x504 with 1 Axes>"
      ]
     },
     "metadata": {
      "needs_background": "light"
     },
     "output_type": "display_data"
    }
   ],
   "source": [
    "predicted1 = rbf.forward(x_ver)\n",
    "predicted1 = predicted1.detach().numpy()\n",
    "fig, ax = plt.subplots(figsize = (10, 7))\n",
    "#plt.scatter(x_ver[: ,2],predicted1)\n",
    "#plt.scatter(x_ver[: ,2],y_ver)\n",
    "ax.plot(y.data, label='Prediction', linestyle = '--')\n",
    "ax.plot(y_ver.data, label='real', linestyle = '-')\n",
    "ax.legend()\n",
    "ax.set_xlabel('f')\n",
    "ax.set_ylabel('s11')\n",
    "#print(predicted1)"
   ]
  },
  {
   "cell_type": "code",
   "execution_count": 48,
   "metadata": {
    "ExecuteTime": {
     "end_time": "2021-07-30T14:02:48.501735Z",
     "start_time": "2021-07-30T14:02:48.493733Z"
    }
   },
   "outputs": [],
   "source": [
    "test=pd.DataFrame(data=y.data)\n",
    "test.to_csv('./RBF_predicted2.csv',encoding='gbk')"
   ]
  },
  {
   "cell_type": "code",
   "execution_count": null,
   "metadata": {},
   "outputs": [],
   "source": []
  }
 ],
 "metadata": {
  "kernelspec": {
   "display_name": "Python 3",
   "language": "python",
   "name": "python3"
  },
  "language_info": {
   "codemirror_mode": {
    "name": "ipython",
    "version": 3
   },
   "file_extension": ".py",
   "mimetype": "text/x-python",
   "name": "python",
   "nbconvert_exporter": "python",
   "pygments_lexer": "ipython3",
   "version": "3.8.5"
  }
 },
 "nbformat": 4,
 "nbformat_minor": 4
}
