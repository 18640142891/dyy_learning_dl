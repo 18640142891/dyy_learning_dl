{
 "cells": [
  {
   "cell_type": "code",
   "execution_count": 19,
   "metadata": {},
   "outputs": [],
   "source": [
    "from pandas import Series,DataFrame\n",
    "from numpy import *\n",
    "import matplotlib.pyplot as plt \n",
    "import numpy as np\n",
    "import pandas as pd\n",
    "import pandas\n",
    "import csv\n",
    "import codecs\n",
    "from sklearn.model_selection import cross_val_score,train_test_split"
   ]
  },
  {
   "cell_type": "code",
   "execution_count": 20,
   "metadata": {},
   "outputs": [],
   "source": [
    "df = pd.read_csv(r\"C:\\Users\\dyy\\Desktop\\补档.csv\")"
   ]
  },
  {
   "cell_type": "code",
   "execution_count": 21,
   "metadata": {},
   "outputs": [],
   "source": [
    "s11_row = df[['dB(S(1,1)) []']]"
   ]
  },
  {
   "cell_type": "code",
   "execution_count": 22,
   "metadata": {},
   "outputs": [],
   "source": [
    "#s11_row[0:221].T"
   ]
  },
  {
   "cell_type": "code",
   "execution_count": 23,
   "metadata": {},
   "outputs": [],
   "source": [
    "a=(int(len(df))/221-1)\n",
    "a = int(a)"
   ]
  },
  {
   "cell_type": "code",
   "execution_count": 24,
   "metadata": {},
   "outputs": [
    {
     "data": {
      "text/plain": [
       "442"
      ]
     },
     "execution_count": 24,
     "metadata": {},
     "output_type": "execute_result"
    }
   ],
   "source": [
    "len(df)"
   ]
  },
  {
   "cell_type": "code",
   "execution_count": 25,
   "metadata": {},
   "outputs": [],
   "source": [
    "\n",
    "s2=s11_row[0:221].T\n",
    "\n",
    "\n",
    "for i in range(a): \n",
    "    \n",
    "    s11 = s11_row[221*(i+1):221*(i+2)].T\n",
    "    \n",
    "    s2 =  np.vstack((s2,s11))\n",
    "\n",
    "    \n"
   ]
  },
  {
   "cell_type": "code",
   "execution_count": 26,
   "metadata": {},
   "outputs": [],
   "source": [
    "s11_row = df[['dB(S(1,1)) []']]"
   ]
  },
  {
   "cell_type": "code",
   "execution_count": 27,
   "metadata": {},
   "outputs": [],
   "source": [
    "s11_otherrow = df[['LG [mm]','LC [mm]','LS [mm]','W1 [mm]','W2 [mm]','W3 [mm]','WC [mm]','WS [mm]']]"
   ]
  },
  {
   "cell_type": "code",
   "execution_count": 28,
   "metadata": {},
   "outputs": [],
   "source": [
    "#for i in range(508):\n",
    "\n",
    "#    df21=s11_otherrow.drop(labels=[1,3],axis=0)\n",
    "    \n",
    "    \n",
    "    "
   ]
  },
  {
   "cell_type": "code",
   "execution_count": 29,
   "metadata": {},
   "outputs": [],
   "source": [
    "ys=s11_otherrow.drop_duplicates(keep='first')"
   ]
  },
  {
   "cell_type": "code",
   "execution_count": 30,
   "metadata": {},
   "outputs": [],
   "source": [
    "ys = np.array(ys)"
   ]
  },
  {
   "cell_type": "code",
   "execution_count": 31,
   "metadata": {},
   "outputs": [
    {
     "data": {
      "text/plain": [
       "(2, 8)"
      ]
     },
     "execution_count": 31,
     "metadata": {},
     "output_type": "execute_result"
    }
   ],
   "source": [
    "ys.shape"
   ]
  },
  {
   "cell_type": "code",
   "execution_count": 32,
   "metadata": {},
   "outputs": [],
   "source": [
    "c=concatenate((ys,s2),axis=1)"
   ]
  },
  {
   "cell_type": "code",
   "execution_count": 33,
   "metadata": {},
   "outputs": [],
   "source": [
    "c = np.array(c)"
   ]
  },
  {
   "cell_type": "code",
   "execution_count": 34,
   "metadata": {},
   "outputs": [],
   "source": [
    "m=c.tolist()"
   ]
  },
  {
   "cell_type": "code",
   "execution_count": 35,
   "metadata": {},
   "outputs": [],
   "source": [
    "#np.savetxt('C:\\\\Users\\\\dyy\\\\\\Desktop\\\\10.csv',m,delimiter=',')"
   ]
  },
  {
   "cell_type": "code",
   "execution_count": 36,
   "metadata": {},
   "outputs": [
    {
     "name": "stdout",
     "output_type": "stream",
     "text": [
      "   0    1      2    3     4    5     6    7         8         9    ...  \\\n",
      "0  8.7  3.8  4.324  1.4  1.25  1.0  1.27  3.4 -4.470692 -5.008816  ...   \n",
      "1  8.7  3.8  4.324  1.4  1.30  1.0  1.27  3.4 -4.367520 -4.884108  ...   \n",
      "\n",
      "        219       220       221       222       223       224       225  \\\n",
      "0 -7.134508 -6.913343 -6.689001 -6.466747 -6.259617 -6.084410 -5.951532   \n",
      "1 -6.360630 -6.139912 -5.958867 -5.798010 -5.647208 -5.505994 -5.379110   \n",
      "\n",
      "        226      227       228  \n",
      "0 -5.857273 -5.78529 -5.713318  \n",
      "1 -5.271168 -5.18413 -5.117552  \n",
      "\n",
      "[2 rows x 229 columns]\n"
     ]
    }
   ],
   "source": [
    "test=pd.DataFrame(data=m)#数据有三列，列名分别为one,two,three\n",
    "print(test)\n",
    "test.to_csv('C:\\\\Users\\\\dyy\\\\\\Desktop\\\\补档改.csv',encoding='gbk')"
   ]
  },
  {
   "cell_type": "code",
   "execution_count": null,
   "metadata": {},
   "outputs": [],
   "source": []
  }
 ],
 "metadata": {
  "kernelspec": {
   "display_name": "Python 3",
   "language": "python",
   "name": "python3"
  },
  "language_info": {
   "codemirror_mode": {
    "name": "ipython",
    "version": 3
   },
   "file_extension": ".py",
   "mimetype": "text/x-python",
   "name": "python",
   "nbconvert_exporter": "python",
   "pygments_lexer": "ipython3",
   "version": "3.8.5"
  }
 },
 "nbformat": 4,
 "nbformat_minor": 4
}
