{
 "cells": [
  {
   "cell_type": "code",
   "execution_count": 1,
   "metadata": {
    "ExecuteTime": {
     "end_time": "2021-11-04T11:15:42.622828Z",
     "start_time": "2021-11-04T11:15:32.509319Z"
    }
   },
   "outputs": [],
   "source": [
    "import torch \n",
    "import torch.nn as nn \n",
    "from torch.autograd import Variable \n",
    "import torch.utils.data as Data \n",
    "import torchvision \n",
    "import matplotlib.pyplot as plt \n",
    "import numpy as np\n",
    "import pandas as pd\n",
    "import csv\n",
    "import codecs\n",
    "from sklearn.model_selection import cross_val_score,train_test_split"
   ]
  },
  {
   "cell_type": "code",
   "execution_count": 2,
   "metadata": {
    "ExecuteTime": {
     "end_time": "2021-11-04T11:15:42.825565Z",
     "start_time": "2021-11-04T11:15:42.623822Z"
    }
   },
   "outputs": [],
   "source": [
    "\n",
    "\n",
    "df = pd.read_csv(r\"C:\\Users\\dyy\\Desktop\\12.csv\")"
   ]
  },
  {
   "cell_type": "code",
   "execution_count": 3,
   "metadata": {
    "ExecuteTime": {
     "end_time": "2021-11-04T11:15:42.840473Z",
     "start_time": "2021-11-04T11:15:42.827553Z"
    }
   },
   "outputs": [],
   "source": [
    "def minmaxscaler(df):\n",
    "    min = np.amin(df)\n",
    "    max = np.amax(df)    \n",
    "    return (df - min)/(max-min)"
   ]
  },
  {
   "cell_type": "code",
   "execution_count": 4,
   "metadata": {
    "ExecuteTime": {
     "end_time": "2021-11-04T11:15:42.855789Z",
     "start_time": "2021-11-04T11:15:42.841466Z"
    }
   },
   "outputs": [],
   "source": [
    "X = df.values[:, 0:8]\n",
    "Y = df.values[:, 8:229]"
   ]
  },
  {
   "cell_type": "code",
   "execution_count": 5,
   "metadata": {
    "ExecuteTime": {
     "end_time": "2021-11-04T11:15:42.887642Z",
     "start_time": "2021-11-04T11:15:42.856781Z"
    }
   },
   "outputs": [],
   "source": [
    "X_train, X_test, Y_train, Y_test = train_test_split(minmaxscaler(X), minmaxscaler(Y), test_size=0.2, random_state=42)"
   ]
  },
  {
   "cell_type": "code",
   "execution_count": 6,
   "metadata": {
    "ExecuteTime": {
     "end_time": "2021-11-04T11:15:42.918450Z",
     "start_time": "2021-11-04T11:15:42.888637Z"
    }
   },
   "outputs": [],
   "source": [
    "x_tra = torch.from_numpy(X_train)\n",
    "x_tra = x_tra.float()\n",
    "x_tes = torch.from_numpy(X_test)\n",
    "x_tes = x_tes.float()\n",
    "y_tra = torch.from_numpy(Y_train)\n",
    "y_tra = y_tra.float()\n",
    "y_tes = torch.from_numpy(Y_test)\n",
    "y_tes = y_tes.float()"
   ]
  },
  {
   "cell_type": "code",
   "execution_count": 7,
   "metadata": {
    "ExecuteTime": {
     "end_time": "2021-11-04T11:15:42.934351Z",
     "start_time": "2021-11-04T11:15:42.920438Z"
    }
   },
   "outputs": [],
   "source": [
    "class ANN(nn.Module):\n",
    "    def __init__(self):\n",
    "        super(ANN, self).__init__()\n",
    "        self.mlp = torch.nn.Sequential(\n",
    "            torch.nn.Linear(8, 1000),\n",
    "            torch.nn.Sigmoid(),\n",
    "            torch.nn.Linear(1000, 500),\n",
    "            torch.nn.Sigmoid(),\n",
    "            torch.nn.Linear(500, 221)\n",
    "        )\n",
    "\n",
    "        # init\n",
    "\n",
    "    def forward(self, x):\n",
    "        x = self.mlp(x)\n",
    "        return x"
   ]
  },
  {
   "cell_type": "code",
   "execution_count": 8,
   "metadata": {
    "ExecuteTime": {
     "end_time": "2021-11-04T11:15:42.950252Z",
     "start_time": "2021-11-04T11:15:42.936338Z"
    }
   },
   "outputs": [],
   "source": [
    "lossData=[[]]\n",
    "model = ANN()"
   ]
  },
  {
   "cell_type": "code",
   "execution_count": 9,
   "metadata": {
    "ExecuteTime": {
     "end_time": "2021-11-04T11:15:45.773869Z",
     "start_time": "2021-11-04T11:15:42.951246Z"
    }
   },
   "outputs": [],
   "source": [
    "device = torch.device(\"cuda\" if torch.cuda.is_available() else \"cpu\")\n",
    "model = model.to(device)"
   ]
  },
  {
   "cell_type": "code",
   "execution_count": 12,
   "metadata": {
    "ExecuteTime": {
     "end_time": "2021-10-31T10:10:05.623657Z",
     "start_time": "2021-10-31T08:01:00.671003Z"
    }
   },
   "outputs": [
    {
     "name": "stdout",
     "output_type": "stream",
     "text": [
      "epoch\t loss\t\n"
     ]
    },
    {
     "name": "stderr",
     "output_type": "stream",
     "text": [
      "<ipython-input-12-988fed3d0eb2>:14: UserWarning: To copy construct from a tensor, it is recommended to use sourceTensor.clone().detach() or sourceTensor.clone().detach().requires_grad_(True), rather than torch.tensor(sourceTensor).\n",
      "  xx = torch.tensor(x_tra[start:end], dtype = torch.float, requires_grad = False).to(device)\n",
      "<ipython-input-12-988fed3d0eb2>:15: UserWarning: To copy construct from a tensor, it is recommended to use sourceTensor.clone().detach() or sourceTensor.clone().detach().requires_grad_(True), rather than torch.tensor(sourceTensor).\n",
      "  yy = torch.tensor(y_tra[start:end], dtype = torch.float, requires_grad = False).to(device)\n"
     ]
    },
    {
     "name": "stdout",
     "output_type": "stream",
     "text": [
      "0 0.8315912\n",
      "100 0.1110879\n",
      "200 0.013512762\n",
      "300 0.002641725\n",
      "400 0.0015560699\n",
      "500 0.0014517148\n",
      "600 0.0014411161\n",
      "700 0.001439862\n",
      "800 0.0014396722\n",
      "900 0.0014396304\n",
      "1000 0.0014396205\n",
      "1100 0.0014396142\n",
      "1200 0.0014396089\n",
      "1300 0.001439613\n",
      "1400 0.0014396132\n",
      "1500 0.001439616\n",
      "1600 0.001439618\n",
      "1700 0.0014396192\n",
      "1800 0.0014396225\n",
      "1900 0.0014396207\n",
      "2000 0.001439623\n",
      "2100 0.0014396292\n",
      "2200 0.0014396283\n",
      "2300 0.0014396295\n",
      "2400 0.0014396334\n",
      "2500 0.0014396355\n",
      "2600 0.0014396395\n",
      "2700 0.0014396401\n",
      "2800 0.0014396415\n",
      "2900 0.0014396424\n",
      "3000 0.0014396457\n",
      "3100 0.0014396468\n",
      "3200 0.0014396455\n",
      "3300 0.0014396453\n",
      "3400 0.0014396498\n",
      "3500 0.0014396525\n",
      "3600 0.0014396494\n",
      "3700 0.0014396491\n",
      "3800 0.0014396447\n",
      "3900 0.0014396433\n",
      "4000 0.0014396401\n",
      "4100 0.0014396382\n",
      "4200 0.0014396389\n",
      "4300 0.0014396362\n",
      "4400 0.0014396309\n",
      "4500 0.0014396291\n",
      "4600 0.0014396278\n",
      "4700 0.0014396217\n",
      "4800 0.0014396167\n",
      "4900 0.0014396148\n",
      "5000 0.0014396126\n",
      "5100 0.0014396094\n",
      "5200 0.0014396072\n",
      "5300 0.0014396105\n",
      "5400 0.0014396063\n",
      "5500 0.0014396051\n",
      "5600 0.001439611\n",
      "5700 0.0014396129\n",
      "5800 0.0014396104\n",
      "5900 0.0014396114\n",
      "6000 0.0014396119\n",
      "6100 0.0014396125\n",
      "6200 0.0014396164\n",
      "6300 0.0014396148\n",
      "6400 0.001439613\n",
      "6500 0.001439615\n",
      "6600 0.0014396188\n",
      "6700 0.0014396191\n",
      "6800 0.0014396196\n",
      "6900 0.0014396231\n",
      "7000 0.0014396217\n",
      "7100 0.0014396196\n",
      "7200 0.0014396225\n",
      "7300 0.001439623\n",
      "7400 0.0014396228\n",
      "7500 0.0014396249\n",
      "7600 0.0014396209\n",
      "7700 0.0014396176\n",
      "7800 0.0014396163\n",
      "7900 0.001439617\n",
      "8000 0.0014396193\n",
      "8100 0.0014396205\n",
      "8200 0.0014396205\n",
      "8300 0.0014396224\n",
      "8400 0.0014396213\n",
      "8500 0.0014396196\n",
      "8600 0.0014396183\n",
      "8700 0.0014396146\n",
      "8800 0.0014396125\n",
      "8900 0.00143961\n",
      "9000 0.0014396047\n",
      "9100 0.001439608\n",
      "9200 0.0014396063\n",
      "9300 0.001439606\n",
      "9400 0.0014396043\n",
      "9500 0.0014396018\n",
      "9600 0.001439604\n",
      "9700 0.0014396043\n",
      "9800 0.0014396039\n",
      "9900 0.0014396043\n",
      "10000 0.0014396014\n",
      "10100 0.0014396018\n",
      "10200 0.0014395962\n",
      "10300 0.001439595\n",
      "10400 0.0014395899\n",
      "10500 0.0014395872\n",
      "10600 0.0014395873\n",
      "10700 0.0014395859\n",
      "10800 0.0014395852\n",
      "10900 0.0014395862\n",
      "11000 0.0014395812\n",
      "11100 0.0014395773\n",
      "11200 0.0014395756\n",
      "11300 0.0014395763\n",
      "11400 0.0014395735\n",
      "11500 0.0014395769\n",
      "11600 0.0014395722\n",
      "11700 0.0014395718\n",
      "11800 0.0014395767\n",
      "11900 0.0014395805\n",
      "12000 0.001439582\n",
      "12100 0.0014395849\n",
      "12200 0.0014395883\n",
      "12300 0.0014395874\n",
      "12400 0.0014395886\n",
      "12500 0.0014395925\n",
      "12600 0.0014395928\n",
      "12700 0.0014395949\n",
      "12800 0.0014395945\n",
      "12900 0.001439598\n",
      "13000 0.0014395992\n",
      "13100 0.0014396014\n",
      "13200 0.001439605\n",
      "13300 0.0014396062\n",
      "13400 0.0014396079\n",
      "13500 0.00143961\n",
      "13600 0.0014396084\n",
      "13700 0.0014396101\n",
      "13800 0.0014396119\n",
      "13900 0.0014396148\n",
      "14000 0.0014396142\n",
      "14100 0.0014396142\n",
      "14200 0.0014396159\n",
      "14300 0.0014396202\n",
      "14400 0.0014396242\n",
      "14500 0.0014396259\n",
      "14600 0.0014396283\n",
      "14700 0.0014396333\n",
      "14800 0.0014396366\n",
      "14900 0.0014396405\n",
      "15000 0.0014396384\n",
      "15100 0.0014396394\n",
      "15200 0.0014396419\n",
      "15300 0.0014396424\n",
      "15400 0.0014396424\n",
      "15500 0.001439644\n",
      "15600 0.0014396424\n",
      "15700 0.0014396436\n",
      "15800 0.0014396472\n",
      "15900 0.0014396462\n",
      "16000 0.0014396475\n",
      "16100 0.0014396481\n",
      "16200 0.0014396475\n",
      "16300 0.0014396477\n",
      "16400 0.0014396486\n",
      "16500 0.0014396429\n",
      "16600 0.0014396474\n",
      "16700 0.0014396483\n",
      "16800 0.0014396539\n",
      "16900 0.0014396526\n",
      "17000 0.001439651\n",
      "17100 0.0014396532\n",
      "17200 0.001439654\n",
      "17300 0.0014396566\n",
      "17400 0.00143966\n",
      "17500 0.0014396657\n",
      "17600 0.0014396644\n",
      "17700 0.0014396681\n",
      "17800 0.0014396735\n",
      "17900 0.0014396738\n",
      "18000 0.0014396759\n",
      "18100 0.0014396734\n",
      "18200 0.0014396731\n",
      "18300 0.0014396751\n",
      "18400 0.0014396751\n",
      "18500 0.0014396746\n",
      "18600 0.0014396777\n",
      "18700 0.0014396782\n",
      "18800 0.0014396728\n",
      "18900 0.0014396722\n",
      "19000 0.0014396709\n",
      "19100 0.0014396738\n",
      "19200 0.0014396743\n",
      "19300 0.0014396702\n",
      "19400 0.0014396741\n",
      "19500 0.0014396755\n",
      "19600 0.0014396748\n",
      "19700 0.001439677\n",
      "19800 0.0014396744\n",
      "19900 0.0014396714\n",
      "20000 0.0014396717\n",
      "20100 0.0014396674\n",
      "20200 0.0014396711\n",
      "20300 0.0014396666\n",
      "20400 0.0014396618\n",
      "20500 0.0014396646\n",
      "20600 0.0014396675\n",
      "20700 0.0014396636\n",
      "20800 0.0014396627\n",
      "20900 0.0014396614\n",
      "21000 0.0014396594\n",
      "21100 0.0014396603\n",
      "21200 0.0014396604\n",
      "21300 0.0014396622\n",
      "21400 0.001439663\n",
      "21500 0.0014396607\n",
      "21600 0.0014396617\n",
      "21700 0.0014396622\n",
      "21800 0.0014396608\n",
      "21900 0.0014396614\n",
      "22000 0.001439661\n",
      "22100 0.0014396603\n",
      "22200 0.0014396609\n",
      "22300 0.0014396597\n",
      "22400 0.0014396588\n",
      "22500 0.001439656\n",
      "22600 0.001439656\n",
      "22700 0.0014396602\n",
      "22800 0.0014396628\n",
      "22900 0.0014396614\n",
      "23000 0.0014396617\n",
      "23100 0.00143966\n",
      "23200 0.0014396604\n",
      "23300 0.0014396544\n",
      "23400 0.0014396547\n",
      "23500 0.0014396501\n",
      "23600 0.001439646\n",
      "23700 0.0014396433\n",
      "23800 0.0014396387\n",
      "23900 0.0014396381\n",
      "24000 0.001439632\n",
      "24100 0.0014396321\n",
      "24200 0.0014396324\n",
      "24300 0.0014396315\n",
      "24400 0.0014396261\n",
      "24500 0.001439624\n",
      "24600 0.0014396224\n",
      "24700 0.0014396228\n",
      "24800 0.0014396159\n",
      "24900 0.0014396113\n",
      "25000 0.0014396129\n",
      "25100 0.0014396142\n",
      "25200 0.0014396126\n",
      "25300 0.0014396098\n",
      "25400 0.001439608\n",
      "25500 0.0014396068\n",
      "25600 0.0014396064\n",
      "25700 0.0014396074\n",
      "25800 0.0014396061\n",
      "25900 0.0014396068\n",
      "26000 0.0014396099\n",
      "26100 0.0014396085\n",
      "26200 0.0014396091\n",
      "26300 0.0014396097\n",
      "26400 0.0014396107\n",
      "26500 0.0014396098\n",
      "26600 0.0014396113\n",
      "26700 0.001439613\n",
      "26800 0.001439615\n",
      "26900 0.0014396171\n",
      "27000 0.0014396218\n",
      "27100 0.0014396235\n",
      "27200 0.0014396316\n",
      "27300 0.0014396339\n",
      "27400 0.0014396327\n",
      "27500 0.0014396324\n",
      "27600 0.0014396337\n",
      "27700 0.0014396342\n",
      "27800 0.001439641\n",
      "27900 0.0014396412\n",
      "28000 0.0014396445\n",
      "28100 0.0014396438\n",
      "28200 0.0014396429\n",
      "28300 0.0014396429\n",
      "28400 0.0014396438\n",
      "28500 0.001439638\n",
      "28600 0.0014396375\n",
      "28700 0.0014396356\n",
      "28800 0.0014396374\n",
      "28900 0.0014396333\n",
      "29000 0.0014396311\n",
      "29100 0.001439632\n",
      "29200 0.0014396285\n",
      "29300 0.0014396284\n",
      "29400 0.001439627\n",
      "29500 0.0014396296\n",
      "29600 0.0014396287\n",
      "29700 0.0014396256\n",
      "29800 0.0014396231\n",
      "29900 0.0014396203\n"
     ]
    }
   ],
   "source": [
    "loss_func = nn.MSELoss()\n",
    "optim = torch.optim.SGD(model.parameters(), 0.0001)\n",
    "batch_size = 64\n",
    "epochs = 30000\n",
    "device = torch.device(\"cuda\" if torch.cuda.is_available() else \"cpu\")\n",
    "model = model.to(device)\n",
    "print(\"epoch\\t loss\\t\")\n",
    "losses = []\n",
    "for i in range(epochs):\n",
    "     batch_loss = []\n",
    "    # start和end分别是提取一个batch数据的起始和终止下标\n",
    "     for start in range(0, len(x_tra), batch_size):\n",
    "        end = start + batch_size if start + batch_size < len(x_tra) else len(x_tra)\n",
    "        xx = torch.tensor(x_tra[start:end], dtype = torch.float, requires_grad = False).to(device)\n",
    "        yy = torch.tensor(y_tra[start:end], dtype = torch.float, requires_grad = False).to(device)\n",
    "        predict = model(xx)\n",
    "        loss =loss_func(predict, yy)\n",
    "        optim.zero_grad()\n",
    "        loss.backward()\n",
    "        optim.step()\n",
    "        batch_loss.append(loss.data.cpu().numpy())\n",
    "    \n",
    "    # 每隔100步输出一下损失值（loss）\n",
    "     if i % 100==0:\n",
    "        losses.append(np.mean(batch_loss))\n",
    "        print(i, np.mean(batch_loss))"
   ]
  },
  {
   "cell_type": "code",
   "execution_count": 21,
   "metadata": {
    "ExecuteTime": {
     "end_time": "2021-11-01T03:07:19.126591Z",
     "start_time": "2021-11-01T03:07:19.084743Z"
    }
   },
   "outputs": [],
   "source": [
    "test=pd.DataFrame(data=losses)\n",
    "test.to_csv('./loss_ANN.csv',encoding='gbk')"
   ]
  },
  {
   "cell_type": "code",
   "execution_count": 29,
   "metadata": {
    "ExecuteTime": {
     "end_time": "2021-11-01T03:15:24.024671Z",
     "start_time": "2021-11-01T03:15:24.002751Z"
    }
   },
   "outputs": [],
   "source": [
    "torch.save(model,\"ANN.pth\")"
   ]
  },
  {
   "cell_type": "code",
   "execution_count": 30,
   "metadata": {
    "ExecuteTime": {
     "end_time": "2021-11-01T03:15:25.962261Z",
     "start_time": "2021-11-01T03:15:25.834724Z"
    }
   },
   "outputs": [
    {
     "data": {
      "text/plain": [
       "Text(0, 0.5, 'loss')"
      ]
     },
     "execution_count": 30,
     "metadata": {},
     "output_type": "execute_result"
    },
    {
     "data": {
      "image/png": "[encoded data removed]",
      "text/plain": [
       "<Figure size 720x504 with 1 Axes>"
      ]
     },
     "metadata": {
      "needs_background": "light"
     },
     "output_type": "display_data"
    }
   ],
   "source": [
    "fig = plt.figure(figsize=(10, 7))\n",
    "plt.plot(np.arange(len(losses))*100,losses, 'o-')\n",
    "plt.xlabel('epoch')\n",
    "plt.ylabel('loss')"
   ]
  },
  {
   "cell_type": "code",
   "execution_count": 24,
   "metadata": {
    "ExecuteTime": {
     "end_time": "2021-11-01T03:07:22.606023Z",
     "start_time": "2021-11-01T03:07:22.587092Z"
    }
   },
   "outputs": [
    {
     "name": "stdout",
     "output_type": "stream",
     "text": [
      "The mean error of linear regression:\n",
      "5.5786833254724325e-05\n"
     ]
    }
   ],
   "source": [
    "predicted = model(x_tes.to(device))\n",
    "\n",
    "predicted = predicted.detach().cpu().numpy()\n",
    "\n",
    " \n",
    "# 计算误差\n",
    "result =abs(np.mean(predicted- Y_test))\n",
    "print(\"The mean error of linear regression:\")\n",
    "print(result)"
   ]
  },
  {
   "cell_type": "code",
   "execution_count": 10,
   "metadata": {
    "ExecuteTime": {
     "end_time": "2021-11-04T11:15:46.987184Z",
     "start_time": "2021-11-04T11:15:46.964327Z"
    }
   },
   "outputs": [],
   "source": [
    "model_dict=torch.load(\"ANN.pth\")"
   ]
  },
  {
   "cell_type": "code",
   "execution_count": 15,
   "metadata": {
    "ExecuteTime": {
     "end_time": "2021-11-04T11:43:55.114394Z",
     "start_time": "2021-11-04T11:43:55.097500Z"
    }
   },
   "outputs": [],
   "source": [
    "r = [0.9873, 0.3418, 0.4334, 0.0633, 0.0380, 0.0253, 0.0500, 0.3418]\n",
    "r=torch.Tensor(r)\n",
    "yyy= [0.9955, 0.9884, 0.9806, 0.9722, 0.9631, 0.9532, 0.9425, 0.9309, 0.9183,\n",
    "        0.9046, 0.8897, 0.8733, 0.8552, 0.8352, 0.8126, 0.7867, 0.7564, 0.7194,\n",
    "        0.6714, 0.6000, 0.4415, 0.5034, 0.5975, 0.6411, 0.6667, 0.6827, 0.6926,\n",
    "        0.6980, 0.6999, 0.6992, 0.6964, 0.6923, 0.6883, 0.6859, 0.6871, 0.6932,\n",
    "        0.7040, 0.7180, 0.7334, 0.7490, 0.7641, 0.7783, 0.7915, 0.8036, 0.8148,\n",
    "        0.8252, 0.8347, 0.8435, 0.8516, 0.8592, 0.8662, 0.8728, 0.8788, 0.8845,\n",
    "        0.8897, 0.8946, 0.8991, 0.9033, 0.9071, 0.9106, 0.9138, 0.9167, 0.9194,\n",
    "        0.9217, 0.9237, 0.9255, 0.9271, 0.9284, 0.9294, 0.9303, 0.9309, 0.9313,\n",
    "        0.9315, 0.9315, 0.9313, 0.9309, 0.9303, 0.9295, 0.9284, 0.9271, 0.9256,\n",
    "        0.9237, 0.9215, 0.9190, 0.9162, 0.9130, 0.9094, 0.9053, 0.9008, 0.8957,\n",
    "        0.8901, 0.8840, 0.8771, 0.8695, 0.8611, 0.8517, 0.8412, 0.8294, 0.8160,\n",
    "        0.8005, 0.7823, 0.7604, 0.7336, 0.6999, 0.6588, 0.6261, 0.6420, 0.6829,\n",
    "        0.7188, 0.7469, 0.7689, 0.7864, 0.8004, 0.8116, 0.8203, 0.8271, 0.8321,\n",
    "        0.8355, 0.8374, 0.8381, 0.8375, 0.8358, 0.8330, 0.8294, 0.8251, 0.8203,\n",
    "        0.8153, 0.8103, 0.8059, 0.8022, 0.7996, 0.7984, 0.7983, 0.7994, 0.8015,\n",
    "        0.8044, 0.8079, 0.8118, 0.8162, 0.8207, 0.8253, 0.8297, 0.8336, 0.8369,\n",
    "        0.8393, 0.8407, 0.8412, 0.8408, 0.8395, 0.8377, 0.8356, 0.8334, 0.8315,\n",
    "        0.8302, 0.8297, 0.8303, 0.8322, 0.8354, 0.8397, 0.8450, 0.8509, 0.8572,\n",
    "        0.8636, 0.8696, 0.8752, 0.8801, 0.8842, 0.8875, 0.8897, 0.8911, 0.8915,\n",
    "        0.8911, 0.8900, 0.8883, 0.8862, 0.8839, 0.8816, 0.8795, 0.8775, 0.8759,\n",
    "        0.8746, 0.8735, 0.8725, 0.8715, 0.8701, 0.8680, 0.8649, 0.8607, 0.8555,\n",
    "        0.8498, 0.8445, 0.8408, 0.8401, 0.8430, 0.8495, 0.8583, 0.8680, 0.8777,\n",
    "        0.8866, 0.8944, 0.9011, 0.9069, 0.9119, 0.9163, 0.9204, 0.9244, 0.9283,\n",
    "        0.9321, 0.9359, 0.9395, 0.9429, 0.9461, 0.9492, 0.9521, 0.9546, 0.9569,\n",
    "        0.9589, 0.9609, 0.9629, 0.9650, 0.9669]\n",
    "yyy=torch.Tensor(yyy)"
   ]
  },
  {
   "cell_type": "code",
   "execution_count": 16,
   "metadata": {
    "ExecuteTime": {
     "end_time": "2021-11-04T11:44:10.238352Z",
     "start_time": "2021-11-04T11:44:10.025678Z"
    }
   },
   "outputs": [
    {
     "data": {
      "text/plain": [
       "Text(0, 0.5, 's11')"
      ]
     },
     "execution_count": 16,
     "metadata": {},
     "output_type": "execute_result"
    },
    {
     "data": {
      "image/png": "[encoded data removed]",
      "text/plain": [
       "<Figure size 720x504 with 1 Axes>"
      ]
     },
     "metadata": {
      "needs_background": "light"
     },
     "output_type": "display_data"
    }
   ],
   "source": [
    "i = 1000\n",
    "\n",
    "X_ver = minmaxscaler(X_test)[i,]\n",
    "Y_ver = minmaxscaler(Y_test)[i,]\n",
    "\n",
    "x_ver = torch.from_numpy(X_ver)\n",
    "x_ver = x_ver.float()\n",
    "y_ver = torch.from_numpy(Y_ver)\n",
    "y_ver = y_ver.float()\n",
    "\n",
    "predicted1 = model_dict(r.to(device))\n",
    "predicted1 = predicted1.detach().cpu().numpy()\n",
    "fig, ax = plt.subplots(figsize = (10, 7))\n",
    "#plt.scatter(x_ver[: ,2],predicted1)\n",
    "#plt.scatter(x_ver[: ,2],y_ver)\n",
    "ax.plot(predicted1, label='Prediction', linestyle = '--')\n",
    "ax.plot(yyy, label='real', linestyle = '-')\n",
    "#ax.plot(y_ver, label='Y2', linestyle = '-')\n",
    "ax.legend()\n",
    "ax.set_xlabel('f')\n",
    "ax.set_ylabel('s11')\n",
    "#print(predicted1)"
   ]
  },
  {
   "cell_type": "code",
   "execution_count": 23,
   "metadata": {
    "ExecuteTime": {
     "end_time": "2021-10-29T12:41:42.780143Z",
     "start_time": "2021-10-29T12:41:42.753137Z"
    }
   },
   "outputs": [],
   "source": [
    "torch.save(model,\"ANN.pth\")"
   ]
  },
  {
   "cell_type": "code",
   "execution_count": 17,
   "metadata": {
    "ExecuteTime": {
     "end_time": "2021-11-04T11:46:29.586268Z",
     "start_time": "2021-11-04T11:46:29.569373Z"
    }
   },
   "outputs": [],
   "source": [
    "def fan_minmaxscaler(x,df):\n",
    "    min = np.amin(df)\n",
    "    max = np.amax(df)    \n",
    "    return x*(max-min)+ min"
   ]
  },
  {
   "cell_type": "code",
   "execution_count": 18,
   "metadata": {
    "ExecuteTime": {
     "end_time": "2021-11-04T11:46:33.162260Z",
     "start_time": "2021-11-04T11:46:33.145365Z"
    }
   },
   "outputs": [],
   "source": [
    "e = fan_minmaxscaler(predicted1,Y)"
   ]
  },
  {
   "cell_type": "code",
   "execution_count": 19,
   "metadata": {
    "ExecuteTime": {
     "end_time": "2021-11-04T11:46:36.469836Z",
     "start_time": "2021-11-04T11:46:36.457911Z"
    }
   },
   "outputs": [],
   "source": [
    "test=pd.DataFrame(data=e)\n",
    "\n",
    "\n",
    "test.to_csv('./ann_predicted1.csv',encoding='gbk')\n"
   ]
  },
  {
   "cell_type": "code",
   "execution_count": null,
   "metadata": {},
   "outputs": [],
   "source": []
  }
 ],
 "metadata": {
  "kernelspec": {
   "display_name": "Python 3",
   "language": "python",
   "name": "python3"
  },
  "language_info": {
   "codemirror_mode": {
    "name": "ipython",
    "version": 3
   },
   "file_extension": ".py",
   "mimetype": "text/x-python",
   "name": "python",
   "nbconvert_exporter": "python",
   "pygments_lexer": "ipython3",
   "version": "3.8.5"
  }
 },
 "nbformat": 4,
 "nbformat_minor": 4
}
